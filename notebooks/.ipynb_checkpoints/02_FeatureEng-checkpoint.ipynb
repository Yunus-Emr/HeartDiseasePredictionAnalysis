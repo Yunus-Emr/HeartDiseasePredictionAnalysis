{
 "cells": [
  {
   "cell_type": "markdown",
   "id": "613b9a20-f8ee-4477-ac1c-1d1020dc4630",
   "metadata": {},
   "source": [
    "1. [Train Test Split](#Train-Test-Split)\n",
    "2. [Feature Engineering](#Feature-Engineering)\n",
    "   - [Feature Scaling](#Feature-Scaling)\n",
    "   - [Feature Encoding](#Feature-Encoding)\n",
    "   - [Missing Data](#Missing-Data)"
   ]
  },
  {
   "cell_type": "code",
   "execution_count": 1,
   "id": "bf28e460-2ea5-4df8-8826-45dd79ac7add",
   "metadata": {},
   "outputs": [],
   "source": [
    "import pandas as pd\n",
    "from ycimpute.imputer import knnimput\n",
    "from sklearn.preprocessing import StandardScaler \n",
    "from sklearn.model_selection import train_test_split, \n",
    "\n",
    "\n",
    "from warnings import filterwarnings\n",
    "filterwarnings('ignore')\n"
   ]
  },
  {
   "cell_type": "code",
   "execution_count": 2,
   "id": "b27a366b-924a-41b0-aa12-d4aaa4b260d2",
   "metadata": {},
   "outputs": [],
   "source": [
    "heart_diases = pd.read_csv(\"../data/raw/heart_disease.csv\")\n",
    "df = heart_diases.copy()"
   ]
  },
  {
   "cell_type": "markdown",
   "id": "6747aa10-97fa-47a8-979e-3a83505eae61",
   "metadata": {},
   "source": [
    "## Train Test Split "
   ]
  },
  {
   "cell_type": "code",
   "execution_count": 3,
   "id": "eda7242a-c8cd-4ead-8431-bc8612ec28a0",
   "metadata": {},
   "outputs": [
    {
     "ename": "NameError",
     "evalue": "name 'train_test_split' is not defined",
     "output_type": "error",
     "traceback": [
      "\u001b[0;31m---------------------------------------------------------------------------\u001b[0m",
      "\u001b[0;31mNameError\u001b[0m                                 Traceback (most recent call last)",
      "Cell \u001b[0;32mIn[3], line 3\u001b[0m\n\u001b[1;32m      1\u001b[0m X \u001b[38;5;241m=\u001b[39m df\u001b[38;5;241m.\u001b[39mdrop([\u001b[38;5;124m\"\u001b[39m\u001b[38;5;124mHeart Disease Status\u001b[39m\u001b[38;5;124m\"\u001b[39m] , axis \u001b[38;5;241m=\u001b[39m \u001b[38;5;241m1\u001b[39m)\n\u001b[1;32m      2\u001b[0m y \u001b[38;5;241m=\u001b[39m df[\u001b[38;5;124m\"\u001b[39m\u001b[38;5;124mHeart Disease Status\u001b[39m\u001b[38;5;124m\"\u001b[39m]\n\u001b[0;32m----> 3\u001b[0m X_train , X_test,y_train , y_test \u001b[38;5;241m=\u001b[39m \u001b[43mtrain_test_split\u001b[49m(X , y , test_size \u001b[38;5;241m=\u001b[39m \u001b[38;5;241m0.20\u001b[39m , random_state \u001b[38;5;241m=\u001b[39m \u001b[38;5;241m42\u001b[39m)\n",
      "\u001b[0;31mNameError\u001b[0m: name 'train_test_split' is not defined"
     ]
    }
   ],
   "source": [
    "X = df.drop([\"Heart Disease Status\"] , axis = 1)\n",
    "y = df[\"Heart Disease Status\"]\n",
    "X_train , X_test,y_train , y_test = train_test_split(X , y , test_size = 0.20 , random_state = 42)"
   ]
  },
  {
   "cell_type": "code",
   "execution_count": null,
   "id": "7006a6b3-a258-4d6a-bda7-9a8d590aba6f",
   "metadata": {},
   "outputs": [],
   "source": [
    "print(X_train.shape, X_test.shape, y_train.shape, y_test.shape)"
   ]
  },
  {
   "cell_type": "code",
   "execution_count": null,
   "id": "f5cff66e-3e32-4ad1-932e-ce7a13c9a44b",
   "metadata": {},
   "outputs": [],
   "source": [
    "X_train.head(2)"
   ]
  },
  {
   "cell_type": "code",
   "execution_count": null,
   "id": "c22380b9-d967-44ef-99e5-2843dbacbed6",
   "metadata": {},
   "outputs": [],
   "source": [
    "X_test.head(2)"
   ]
  },
  {
   "cell_type": "code",
   "execution_count": null,
   "id": "b280916c-9db0-42d3-b292-f3bcb676f2dd",
   "metadata": {},
   "outputs": [],
   "source": [
    "y_train.head()"
   ]
  },
  {
   "cell_type": "code",
   "execution_count": null,
   "id": "4d262c3f-b88f-4dbe-b68c-ab1cbf00f410",
   "metadata": {},
   "outputs": [],
   "source": [
    "y_test.head()"
   ]
  },
  {
   "cell_type": "code",
   "execution_count": null,
   "id": "ac3b28b6-9129-4c38-8963-5ba87f3467b4",
   "metadata": {},
   "outputs": [],
   "source": [
    "print(y_train.value_counts(normalize=True))\n",
    "print(y_test.value_counts(normalize=True))"
   ]
  },
  {
   "cell_type": "markdown",
   "id": "82059103-94e6-4f4d-8b0b-6af33a52364c",
   "metadata": {},
   "source": [
    "## Feature Engineering"
   ]
  },
  {
   "cell_type": "markdown",
   "id": "4ebb8311-9e28-43f9-aba1-5e399e9970b3",
   "metadata": {},
   "source": [
    "### Feature Scaling"
   ]
  },
  {
   "cell_type": "code",
   "execution_count": null,
   "id": "0a85af03-d771-4585-972b-67c4836353e8",
   "metadata": {},
   "outputs": [],
   "source": [
    "numeric_cols = X_train.select_dtypes(include=[\"float64\", \"int64\"]).columns.tolist()\n",
    "\n",
    "scaler = StandardScaler()\n",
    "X_train[numeric_cols] = scaler.fit_transform(X_train[numeric_cols])\n",
    "X_test[numeric_cols] = scaler.transform(X_test[numeric_cols])"
   ]
  },
  {
   "cell_type": "markdown",
   "id": "85a11303-eb76-4dec-accd-9e3db67143f2",
   "metadata": {},
   "source": [
    "### Feature Encoding "
   ]
  },
  {
   "cell_type": "code",
   "execution_count": null,
   "id": "37f3771d-bcbd-4624-995d-6689a22e6a48",
   "metadata": {},
   "outputs": [],
   "source": [
    "categorical_cols = X_train.select_dtypes(include=[\"object\"]).columns.tolist()\n",
    "pref = [\"Gen\",\"Exercise\",\"Smok\",\"Family\",\"Dia\",\"HighB\",\"LowHDL\",\"HighLDL\",\"Alch\",\"Stress\",\"Sugar\"]\n",
    "\n",
    "X_train = pd.get_dummies(data = X_train ,columns =  categorical_cols, prefix = pref,drop_first = True)\n",
    "X_test = pd.get_dummies(data = X_test ,columns = categorical_cols ,prefix = pref,drop_first = True)\n",
    "\n",
    "bool_columns = X_train.select_dtypes(include = \"bool\").columns\n",
    "X_train[bool_columns] = X_train[bool_columns].astype(int)\n",
    "\n",
    "bool_columns = X_test.select_dtypes(include = \"bool\").columns\n",
    "X_test[bool_columns] = X_test[bool_columns].astype(int)"
   ]
  },
  {
   "cell_type": "code",
   "execution_count": null,
   "id": "43251d04-9e50-4cdb-bb1f-47c535e0684e",
   "metadata": {},
   "outputs": [],
   "source": [
    "X_train.head(2)"
   ]
  },
  {
   "cell_type": "code",
   "execution_count": null,
   "id": "e2de6eef-970b-47d6-9df7-ec7753588e88",
   "metadata": {},
   "outputs": [],
   "source": [
    "X_test.head(2)"
   ]
  },
  {
   "cell_type": "markdown",
   "id": "7b76a911-a466-4ed0-9e75-a98fcf2e7b4d",
   "metadata": {
    "execution": {
     "iopub.execute_input": "2025-03-19T19:12:49.055269Z",
     "iopub.status.busy": "2025-03-19T19:12:49.054843Z",
     "iopub.status.idle": "2025-03-19T19:12:49.059648Z",
     "shell.execute_reply": "2025-03-19T19:12:49.058614Z",
     "shell.execute_reply.started": "2025-03-19T19:12:49.055236Z"
    }
   },
   "source": [
    "### Missing Data"
   ]
  },
  {
   "cell_type": "code",
   "execution_count": null,
   "id": "bc2032b4-5cc3-4230-be73-6c37ecd0d06b",
   "metadata": {},
   "outputs": [],
   "source": [
    "X_train.isnull().sum()"
   ]
  },
  {
   "cell_type": "code",
   "execution_count": null,
   "id": "72271639-d970-4456-83dd-c438c9c98af7",
   "metadata": {},
   "outputs": [],
   "source": [
    "(X_train.isnull().sum()/ len(df)) * 100"
   ]
  },
  {
   "cell_type": "code",
   "execution_count": null,
   "id": "ead90c48-8b26-4f90-aab9-55e943b59313",
   "metadata": {},
   "outputs": [],
   "source": [
    "X_test.isnull().sum()"
   ]
  },
  {
   "cell_type": "code",
   "execution_count": null,
   "id": "9d747ce2-ebae-4c6d-8131-571c96d8767d",
   "metadata": {},
   "outputs": [],
   "source": [
    "(X_test.isnull().sum()/ len(df)) * 100"
   ]
  },
  {
   "cell_type": "code",
   "execution_count": null,
   "id": "ceb8407f-2e70-487f-9423-089f86c15f59",
   "metadata": {},
   "outputs": [],
   "source": [
    "(df.isnull().sum()/ len(df)) * 100"
   ]
  },
  {
   "cell_type": "markdown",
   "id": "e67bdf82-9c3d-4370-b95d-721e88c055a3",
   "metadata": {
    "execution": {
     "iopub.execute_input": "2025-03-19T20:03:56.759194Z",
     "iopub.status.busy": "2025-03-19T20:03:56.758767Z",
     "iopub.status.idle": "2025-03-19T20:03:56.767726Z",
     "shell.execute_reply": "2025-03-19T20:03:56.766476Z",
     "shell.execute_reply.started": "2025-03-19T20:03:56.759164Z"
    }
   },
   "source": [
    "**Overview of Missing Data**:\n",
    "\n",
    "A detailed analysis of missing data was conducted on the dataset. The findings indicate that:\n",
    "\n",
    "* The missing data percentage ranges between 0.19% and 0.30% for most features.\n",
    "\n",
    "* The 'Alcohol Consumption' column has a significantly higher missing data percentage (25.86%), which is approximately one-fourth of the dataset.\n",
    "\n",
    "* No evident correlation was found between missing values and other variables.\n",
    "\n",
    "* There are no outliers in the dataset that could distort the missing data imputation process.\n",
    "\n",
    "**Strategy for Handling Missing Data**:\n",
    "\n",
    "1. Dropping 'Alcohol Consumption' Column:\n",
    "\n",
    "* The missing rate is excessively high (~26%), making it impractical to impute.\n",
    "\n",
    "* Retaining this column and applying imputation could introduce significant biases.\n",
    "\n",
    "* Therefore, the best approach is to remove this column from the dataset.\n",
    "\n",
    "2. Imputing Missing Values for Other Features:\n",
    "\n",
    "* Given the low missing percentages (0.12% - 0.25%), imputation is preferred over deletion.\n",
    "\n",
    "* KNN Imputer will be used for missing value imputation because:\n",
    "\n",
    "    * The dataset has no outliers, making KNN a suitable method.\n",
    "\n",
    "    * Methods like mean/median imputation could distort feature distributions.\n",
    "\n",
    "    * Regression-based imputation might be excessive for a medium-sized dataset.\n",
    "\n",
    "    * KNN Imputer leverages feature similarity to generate realistic missing value replacements.\n",
    "\n",
    "**Final Decision**:\n",
    "\n",
    "* 'Alcohol Consumption' will be removed from the dataset. KNN Imputer will be used to fill missing values in all other columns.\n",
    "\n",
    "* This strategy ensures data integrity while minimizing information loss, thus maintaining the quality of the dataset for machine learning applications."
   ]
  },
  {
   "cell_type": "code",
   "execution_count": null,
   "id": "ceee1689-e9ab-41c2-9bc2-cf33c93c2197",
   "metadata": {},
   "outputs": [],
   "source": [
    "X_train= X_train.drop([\"Alch_Low\",\"Alch_Medium\"] , axis = 1)\n",
    "X_test= X_test.drop([\"Alch_Low\",\"Alch_Medium\"], axis = 1)"
   ]
  },
  {
   "cell_type": "code",
   "execution_count": null,
   "id": "059abc48-ded6-4d9f-a88a-441772dc0837",
   "metadata": {},
   "outputs": [],
   "source": [
    "X_train_filled = knnimput.KNN(k= 5).complete(X_train.values)\n",
    "X_train = pd.DataFrame(X_train_filled ,columns = X_train.columns)\n",
    "\n",
    "X_test_filled = knnimput.KNN(k= 5).complete(X_test.values)\n",
    "X_test = pd.DataFrame(X_test_filled ,columns = X_train.columns)"
   ]
  },
  {
   "cell_type": "code",
   "execution_count": null,
   "id": "bffdd102-5cea-4c69-b601-2eed68cac5e6",
   "metadata": {
    "scrolled": true
   },
   "outputs": [],
   "source": [
    "print(X_test.isnull().sum())\n",
    "print(\"----------------------------------------\")\n",
    "print(X_train.isnull().sum())"
   ]
  },
  {
   "cell_type": "code",
   "execution_count": null,
   "id": "2a39e5b7-82a7-4777-85ca-735c63bd48aa",
   "metadata": {},
   "outputs": [],
   "source": [
    "X_train.to_csv(\"../data/processed/X_train.csv\", index=False)\n",
    "X_test.to_csv(\"../data/processed/X_test.csv\", index=False)\n",
    "y_train.to_csv(\"../data/processed/y_train.csv\", index=False)\n",
    "y_test.to_csv(\"../data/processed/y_test.csv\", index=False)"
   ]
  }
 ],
 "metadata": {
  "kernelspec": {
   "display_name": "Python 3 (ipykernel)",
   "language": "python",
   "name": "python3"
  },
  "language_info": {
   "codemirror_mode": {
    "name": "ipython",
    "version": 3
   },
   "file_extension": ".py",
   "mimetype": "text/x-python",
   "name": "python",
   "nbconvert_exporter": "python",
   "pygments_lexer": "ipython3",
   "version": "3.10.12"
  }
 },
 "nbformat": 4,
 "nbformat_minor": 5
}
