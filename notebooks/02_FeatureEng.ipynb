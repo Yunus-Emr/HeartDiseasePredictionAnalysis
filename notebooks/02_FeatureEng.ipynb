{
 "cells": [
  {
   "cell_type": "markdown",
   "id": "613b9a20-f8ee-4477-ac1c-1d1020dc4630",
   "metadata": {},
   "source": [
    "1. [Train Test Split](#Train-Test-Split)\n",
    "2. [Feature Engineering](#Feature-Engineering)\n",
    "   - [Feature Scaling](#Feature-Scaling)\n",
    "   - [Feature Encoding](#Feature-Encoding)\n",
    "   - [Missing Data](#Missing-Data)"
   ]
  },
  {
   "cell_type": "code",
   "execution_count": 4,
   "id": "bf28e460-2ea5-4df8-8826-45dd79ac7add",
   "metadata": {},
   "outputs": [],
   "source": [
    "import pandas as pd\n",
    "from ycimpute.imputer import knnimput\n",
    "from sklearn.preprocessing import StandardScaler \n",
    "from sklearn.model_selection import train_test_split\n",
    "\n",
    "from warnings import filterwarnings\n",
    "filterwarnings('ignore')\n"
   ]
  },
  {
   "cell_type": "code",
   "execution_count": 5,
   "id": "b27a366b-924a-41b0-aa12-d4aaa4b260d2",
   "metadata": {},
   "outputs": [],
   "source": [
    "heart_diases = pd.read_csv(\"../data/raw/heart_disease.csv\")\n",
    "df = heart_diases.copy()"
   ]
  },
  {
   "cell_type": "markdown",
   "id": "6747aa10-97fa-47a8-979e-3a83505eae61",
   "metadata": {},
   "source": [
    "## Train Test Split "
   ]
  },
  {
   "cell_type": "code",
   "execution_count": 6,
   "id": "eda7242a-c8cd-4ead-8431-bc8612ec28a0",
   "metadata": {},
   "outputs": [],
   "source": [
    "X = df.drop([\"Heart Disease Status\"] , axis = 1)\n",
    "y = df[\"Heart Disease Status\"]\n",
    "X_train , X_test,y_train , y_test = train_test_split(X , y , test_size = 0.20 , random_state = 42)"
   ]
  },
  {
   "cell_type": "code",
   "execution_count": 7,
   "id": "7006a6b3-a258-4d6a-bda7-9a8d590aba6f",
   "metadata": {},
   "outputs": [
    {
     "name": "stdout",
     "output_type": "stream",
     "text": [
      "(8000, 20) (2000, 20) (8000,) (2000,)\n"
     ]
    }
   ],
   "source": [
    "print(X_train.shape, X_test.shape, y_train.shape, y_test.shape)"
   ]
  },
  {
   "cell_type": "code",
   "execution_count": 8,
   "id": "f5cff66e-3e32-4ad1-932e-ce7a13c9a44b",
   "metadata": {},
   "outputs": [
    {
     "data": {
      "text/html": [
       "<div>\n",
       "<style scoped>\n",
       "    .dataframe tbody tr th:only-of-type {\n",
       "        vertical-align: middle;\n",
       "    }\n",
       "\n",
       "    .dataframe tbody tr th {\n",
       "        vertical-align: top;\n",
       "    }\n",
       "\n",
       "    .dataframe thead th {\n",
       "        text-align: right;\n",
       "    }\n",
       "</style>\n",
       "<table border=\"1\" class=\"dataframe\">\n",
       "  <thead>\n",
       "    <tr style=\"text-align: right;\">\n",
       "      <th></th>\n",
       "      <th>Age</th>\n",
       "      <th>Gender</th>\n",
       "      <th>Blood Pressure</th>\n",
       "      <th>Cholesterol Level</th>\n",
       "      <th>Exercise Habits</th>\n",
       "      <th>Smoking</th>\n",
       "      <th>Family Heart Disease</th>\n",
       "      <th>Diabetes</th>\n",
       "      <th>BMI</th>\n",
       "      <th>High Blood Pressure</th>\n",
       "      <th>Low HDL Cholesterol</th>\n",
       "      <th>High LDL Cholesterol</th>\n",
       "      <th>Alcohol Consumption</th>\n",
       "      <th>Stress Level</th>\n",
       "      <th>Sleep Hours</th>\n",
       "      <th>Sugar Consumption</th>\n",
       "      <th>Triglyceride Level</th>\n",
       "      <th>Fasting Blood Sugar</th>\n",
       "      <th>CRP Level</th>\n",
       "      <th>Homocysteine Level</th>\n",
       "    </tr>\n",
       "  </thead>\n",
       "  <tbody>\n",
       "    <tr>\n",
       "      <th>9254</th>\n",
       "      <td>78.0</td>\n",
       "      <td>Male</td>\n",
       "      <td>140.0</td>\n",
       "      <td>289.0</td>\n",
       "      <td>High</td>\n",
       "      <td>Yes</td>\n",
       "      <td>Yes</td>\n",
       "      <td>No</td>\n",
       "      <td>25.086206</td>\n",
       "      <td>Yes</td>\n",
       "      <td>Yes</td>\n",
       "      <td>No</td>\n",
       "      <td>Low</td>\n",
       "      <td>High</td>\n",
       "      <td>9.024681</td>\n",
       "      <td>Medium</td>\n",
       "      <td>222.0</td>\n",
       "      <td>137.0</td>\n",
       "      <td>14.481422</td>\n",
       "      <td>11.320909</td>\n",
       "    </tr>\n",
       "    <tr>\n",
       "      <th>1561</th>\n",
       "      <td>64.0</td>\n",
       "      <td>Male</td>\n",
       "      <td>143.0</td>\n",
       "      <td>203.0</td>\n",
       "      <td>Low</td>\n",
       "      <td>Yes</td>\n",
       "      <td>Yes</td>\n",
       "      <td>Yes</td>\n",
       "      <td>23.791361</td>\n",
       "      <td>Yes</td>\n",
       "      <td>Yes</td>\n",
       "      <td>No</td>\n",
       "      <td>High</td>\n",
       "      <td>Medium</td>\n",
       "      <td>6.543419</td>\n",
       "      <td>Medium</td>\n",
       "      <td>188.0</td>\n",
       "      <td>111.0</td>\n",
       "      <td>6.485267</td>\n",
       "      <td>15.761419</td>\n",
       "    </tr>\n",
       "  </tbody>\n",
       "</table>\n",
       "</div>"
      ],
      "text/plain": [
       "       Age Gender  Blood Pressure  Cholesterol Level Exercise Habits Smoking  \\\n",
       "9254  78.0   Male           140.0              289.0            High     Yes   \n",
       "1561  64.0   Male           143.0              203.0             Low     Yes   \n",
       "\n",
       "     Family Heart Disease Diabetes        BMI High Blood Pressure  \\\n",
       "9254                  Yes       No  25.086206                 Yes   \n",
       "1561                  Yes      Yes  23.791361                 Yes   \n",
       "\n",
       "     Low HDL Cholesterol High LDL Cholesterol Alcohol Consumption  \\\n",
       "9254                 Yes                   No                 Low   \n",
       "1561                 Yes                   No                High   \n",
       "\n",
       "     Stress Level  Sleep Hours Sugar Consumption  Triglyceride Level  \\\n",
       "9254         High     9.024681            Medium               222.0   \n",
       "1561       Medium     6.543419            Medium               188.0   \n",
       "\n",
       "      Fasting Blood Sugar  CRP Level  Homocysteine Level  \n",
       "9254                137.0  14.481422           11.320909  \n",
       "1561                111.0   6.485267           15.761419  "
      ]
     },
     "execution_count": 8,
     "metadata": {},
     "output_type": "execute_result"
    }
   ],
   "source": [
    "X_train.head(2)"
   ]
  },
  {
   "cell_type": "code",
   "execution_count": 9,
   "id": "c22380b9-d967-44ef-99e5-2843dbacbed6",
   "metadata": {},
   "outputs": [
    {
     "data": {
      "text/html": [
       "<div>\n",
       "<style scoped>\n",
       "    .dataframe tbody tr th:only-of-type {\n",
       "        vertical-align: middle;\n",
       "    }\n",
       "\n",
       "    .dataframe tbody tr th {\n",
       "        vertical-align: top;\n",
       "    }\n",
       "\n",
       "    .dataframe thead th {\n",
       "        text-align: right;\n",
       "    }\n",
       "</style>\n",
       "<table border=\"1\" class=\"dataframe\">\n",
       "  <thead>\n",
       "    <tr style=\"text-align: right;\">\n",
       "      <th></th>\n",
       "      <th>Age</th>\n",
       "      <th>Gender</th>\n",
       "      <th>Blood Pressure</th>\n",
       "      <th>Cholesterol Level</th>\n",
       "      <th>Exercise Habits</th>\n",
       "      <th>Smoking</th>\n",
       "      <th>Family Heart Disease</th>\n",
       "      <th>Diabetes</th>\n",
       "      <th>BMI</th>\n",
       "      <th>High Blood Pressure</th>\n",
       "      <th>Low HDL Cholesterol</th>\n",
       "      <th>High LDL Cholesterol</th>\n",
       "      <th>Alcohol Consumption</th>\n",
       "      <th>Stress Level</th>\n",
       "      <th>Sleep Hours</th>\n",
       "      <th>Sugar Consumption</th>\n",
       "      <th>Triglyceride Level</th>\n",
       "      <th>Fasting Blood Sugar</th>\n",
       "      <th>CRP Level</th>\n",
       "      <th>Homocysteine Level</th>\n",
       "    </tr>\n",
       "  </thead>\n",
       "  <tbody>\n",
       "    <tr>\n",
       "      <th>6252</th>\n",
       "      <td>38.0</td>\n",
       "      <td>Male</td>\n",
       "      <td>169.0</td>\n",
       "      <td>156.0</td>\n",
       "      <td>Medium</td>\n",
       "      <td>Yes</td>\n",
       "      <td>No</td>\n",
       "      <td>Yes</td>\n",
       "      <td>35.303549</td>\n",
       "      <td>No</td>\n",
       "      <td>No</td>\n",
       "      <td>Yes</td>\n",
       "      <td>Medium</td>\n",
       "      <td>High</td>\n",
       "      <td>4.213721</td>\n",
       "      <td>Medium</td>\n",
       "      <td>321.0</td>\n",
       "      <td>158.0</td>\n",
       "      <td>9.778347</td>\n",
       "      <td>17.400056</td>\n",
       "    </tr>\n",
       "    <tr>\n",
       "      <th>4684</th>\n",
       "      <td>77.0</td>\n",
       "      <td>Female</td>\n",
       "      <td>174.0</td>\n",
       "      <td>280.0</td>\n",
       "      <td>Medium</td>\n",
       "      <td>Yes</td>\n",
       "      <td>Yes</td>\n",
       "      <td>No</td>\n",
       "      <td>29.792178</td>\n",
       "      <td>Yes</td>\n",
       "      <td>No</td>\n",
       "      <td>Yes</td>\n",
       "      <td>NaN</td>\n",
       "      <td>Medium</td>\n",
       "      <td>5.081128</td>\n",
       "      <td>Medium</td>\n",
       "      <td>312.0</td>\n",
       "      <td>80.0</td>\n",
       "      <td>14.370456</td>\n",
       "      <td>8.724180</td>\n",
       "    </tr>\n",
       "  </tbody>\n",
       "</table>\n",
       "</div>"
      ],
      "text/plain": [
       "       Age  Gender  Blood Pressure  Cholesterol Level Exercise Habits Smoking  \\\n",
       "6252  38.0    Male           169.0              156.0          Medium     Yes   \n",
       "4684  77.0  Female           174.0              280.0          Medium     Yes   \n",
       "\n",
       "     Family Heart Disease Diabetes        BMI High Blood Pressure  \\\n",
       "6252                   No      Yes  35.303549                  No   \n",
       "4684                  Yes       No  29.792178                 Yes   \n",
       "\n",
       "     Low HDL Cholesterol High LDL Cholesterol Alcohol Consumption  \\\n",
       "6252                  No                  Yes              Medium   \n",
       "4684                  No                  Yes                 NaN   \n",
       "\n",
       "     Stress Level  Sleep Hours Sugar Consumption  Triglyceride Level  \\\n",
       "6252         High     4.213721            Medium               321.0   \n",
       "4684       Medium     5.081128            Medium               312.0   \n",
       "\n",
       "      Fasting Blood Sugar  CRP Level  Homocysteine Level  \n",
       "6252                158.0   9.778347           17.400056  \n",
       "4684                 80.0  14.370456            8.724180  "
      ]
     },
     "execution_count": 9,
     "metadata": {},
     "output_type": "execute_result"
    }
   ],
   "source": [
    "X_test.head(2)"
   ]
  },
  {
   "cell_type": "code",
   "execution_count": 10,
   "id": "b280916c-9db0-42d3-b292-f3bcb676f2dd",
   "metadata": {},
   "outputs": [
    {
     "data": {
      "text/plain": [
       "9254    Yes\n",
       "1561     No\n",
       "1670     No\n",
       "6087     No\n",
       "6669     No\n",
       "Name: Heart Disease Status, dtype: object"
      ]
     },
     "execution_count": 10,
     "metadata": {},
     "output_type": "execute_result"
    }
   ],
   "source": [
    "y_train.head()"
   ]
  },
  {
   "cell_type": "code",
   "execution_count": 11,
   "id": "4d262c3f-b88f-4dbe-b68c-ab1cbf00f410",
   "metadata": {},
   "outputs": [
    {
     "data": {
      "text/plain": [
       "6252    No\n",
       "4684    No\n",
       "1731    No\n",
       "4742    No\n",
       "4521    No\n",
       "Name: Heart Disease Status, dtype: object"
      ]
     },
     "execution_count": 11,
     "metadata": {},
     "output_type": "execute_result"
    }
   ],
   "source": [
    "y_test.head()"
   ]
  },
  {
   "cell_type": "code",
   "execution_count": 12,
   "id": "ac3b28b6-9129-4c38-8963-5ba87f3467b4",
   "metadata": {},
   "outputs": [
    {
     "name": "stdout",
     "output_type": "stream",
     "text": [
      "Heart Disease Status\n",
      "No     0.798375\n",
      "Yes    0.201625\n",
      "Name: proportion, dtype: float64\n",
      "Heart Disease Status\n",
      "No     0.8065\n",
      "Yes    0.1935\n",
      "Name: proportion, dtype: float64\n"
     ]
    }
   ],
   "source": [
    "print(y_train.value_counts(normalize=True))\n",
    "print(y_test.value_counts(normalize=True))"
   ]
  },
  {
   "cell_type": "markdown",
   "id": "82059103-94e6-4f4d-8b0b-6af33a52364c",
   "metadata": {},
   "source": [
    "## Feature Engineering"
   ]
  },
  {
   "cell_type": "markdown",
   "id": "4ebb8311-9e28-43f9-aba1-5e399e9970b3",
   "metadata": {},
   "source": [
    "### Feature Scaling"
   ]
  },
  {
   "cell_type": "code",
   "execution_count": 13,
   "id": "0a85af03-d771-4585-972b-67c4836353e8",
   "metadata": {},
   "outputs": [],
   "source": [
    "numeric_cols = X_train.select_dtypes(include=[\"float64\", \"int64\"]).columns.tolist()\n",
    "\n",
    "scaler = StandardScaler()\n",
    "X_train[numeric_cols] = scaler.fit_transform(X_train[numeric_cols])\n",
    "X_test[numeric_cols] = scaler.transform(X_test[numeric_cols])"
   ]
  },
  {
   "cell_type": "markdown",
   "id": "85a11303-eb76-4dec-accd-9e3db67143f2",
   "metadata": {},
   "source": [
    "### Feature Encoding "
   ]
  },
  {
   "cell_type": "code",
   "execution_count": 14,
   "id": "37f3771d-bcbd-4624-995d-6689a22e6a48",
   "metadata": {},
   "outputs": [],
   "source": [
    "categorical_cols = X_train.select_dtypes(include=[\"object\"]).columns.tolist()\n",
    "pref = [\"Gen\",\"Exercise\",\"Smok\",\"Family\",\"Dia\",\"HighB\",\"LowHDL\",\"HighLDL\",\"Alch\",\"Stress\",\"Sugar\"]\n",
    "\n",
    "X_train = pd.get_dummies(data = X_train ,columns =  categorical_cols, prefix = pref,drop_first = True)\n",
    "X_test = pd.get_dummies(data = X_test ,columns = categorical_cols ,prefix = pref,drop_first = True)\n",
    "\n",
    "bool_columns = X_train.select_dtypes(include = \"bool\").columns\n",
    "X_train[bool_columns] = X_train[bool_columns].astype(int)\n",
    "\n",
    "bool_columns = X_test.select_dtypes(include = \"bool\").columns\n",
    "X_test[bool_columns] = X_test[bool_columns].astype(int)"
   ]
  },
  {
   "cell_type": "code",
   "execution_count": 15,
   "id": "43251d04-9e50-4cdb-bb1f-47c535e0684e",
   "metadata": {},
   "outputs": [
    {
     "data": {
      "text/html": [
       "<div>\n",
       "<style scoped>\n",
       "    .dataframe tbody tr th:only-of-type {\n",
       "        vertical-align: middle;\n",
       "    }\n",
       "\n",
       "    .dataframe tbody tr th {\n",
       "        vertical-align: top;\n",
       "    }\n",
       "\n",
       "    .dataframe thead th {\n",
       "        text-align: right;\n",
       "    }\n",
       "</style>\n",
       "<table border=\"1\" class=\"dataframe\">\n",
       "  <thead>\n",
       "    <tr style=\"text-align: right;\">\n",
       "      <th></th>\n",
       "      <th>Age</th>\n",
       "      <th>Blood Pressure</th>\n",
       "      <th>Cholesterol Level</th>\n",
       "      <th>BMI</th>\n",
       "      <th>Sleep Hours</th>\n",
       "      <th>Triglyceride Level</th>\n",
       "      <th>Fasting Blood Sugar</th>\n",
       "      <th>CRP Level</th>\n",
       "      <th>Homocysteine Level</th>\n",
       "      <th>Gen_Male</th>\n",
       "      <th>...</th>\n",
       "      <th>Dia_Yes</th>\n",
       "      <th>HighB_Yes</th>\n",
       "      <th>LowHDL_Yes</th>\n",
       "      <th>HighLDL_Yes</th>\n",
       "      <th>Alch_Low</th>\n",
       "      <th>Alch_Medium</th>\n",
       "      <th>Stress_Low</th>\n",
       "      <th>Stress_Medium</th>\n",
       "      <th>Sugar_Low</th>\n",
       "      <th>Sugar_Medium</th>\n",
       "    </tr>\n",
       "  </thead>\n",
       "  <tbody>\n",
       "    <tr>\n",
       "      <th>9254</th>\n",
       "      <td>1.587617</td>\n",
       "      <td>-0.553458</td>\n",
       "      <td>1.460896</td>\n",
       "      <td>-0.627637</td>\n",
       "      <td>1.165436</td>\n",
       "      <td>-0.329610</td>\n",
       "      <td>0.722793</td>\n",
       "      <td>1.617575</td>\n",
       "      <td>-0.260051</td>\n",
       "      <td>1</td>\n",
       "      <td>...</td>\n",
       "      <td>0</td>\n",
       "      <td>1</td>\n",
       "      <td>1</td>\n",
       "      <td>0</td>\n",
       "      <td>1</td>\n",
       "      <td>0</td>\n",
       "      <td>0</td>\n",
       "      <td>0</td>\n",
       "      <td>0</td>\n",
       "      <td>1</td>\n",
       "    </tr>\n",
       "    <tr>\n",
       "      <th>1561</th>\n",
       "      <td>0.817468</td>\n",
       "      <td>-0.382678</td>\n",
       "      <td>-0.510937</td>\n",
       "      <td>-0.832741</td>\n",
       "      <td>-0.249128</td>\n",
       "      <td>-0.718604</td>\n",
       "      <td>-0.379149</td>\n",
       "      <td>-0.225335</td>\n",
       "      <td>0.764507</td>\n",
       "      <td>1</td>\n",
       "      <td>...</td>\n",
       "      <td>1</td>\n",
       "      <td>1</td>\n",
       "      <td>1</td>\n",
       "      <td>0</td>\n",
       "      <td>0</td>\n",
       "      <td>0</td>\n",
       "      <td>0</td>\n",
       "      <td>1</td>\n",
       "      <td>0</td>\n",
       "      <td>1</td>\n",
       "    </tr>\n",
       "  </tbody>\n",
       "</table>\n",
       "<p>2 rows × 24 columns</p>\n",
       "</div>"
      ],
      "text/plain": [
       "           Age  Blood Pressure  Cholesterol Level       BMI  Sleep Hours  \\\n",
       "9254  1.587617       -0.553458           1.460896 -0.627637     1.165436   \n",
       "1561  0.817468       -0.382678          -0.510937 -0.832741    -0.249128   \n",
       "\n",
       "      Triglyceride Level  Fasting Blood Sugar  CRP Level  Homocysteine Level  \\\n",
       "9254           -0.329610             0.722793   1.617575           -0.260051   \n",
       "1561           -0.718604            -0.379149  -0.225335            0.764507   \n",
       "\n",
       "      Gen_Male  ...  Dia_Yes  HighB_Yes  LowHDL_Yes  HighLDL_Yes  Alch_Low  \\\n",
       "9254         1  ...        0          1           1            0         1   \n",
       "1561         1  ...        1          1           1            0         0   \n",
       "\n",
       "      Alch_Medium  Stress_Low  Stress_Medium  Sugar_Low  Sugar_Medium  \n",
       "9254            0           0              0          0             1  \n",
       "1561            0           0              1          0             1  \n",
       "\n",
       "[2 rows x 24 columns]"
      ]
     },
     "execution_count": 15,
     "metadata": {},
     "output_type": "execute_result"
    }
   ],
   "source": [
    "X_train.head(2)"
   ]
  },
  {
   "cell_type": "code",
   "execution_count": 16,
   "id": "e2de6eef-970b-47d6-9df7-ec7753588e88",
   "metadata": {},
   "outputs": [
    {
     "data": {
      "text/html": [
       "<div>\n",
       "<style scoped>\n",
       "    .dataframe tbody tr th:only-of-type {\n",
       "        vertical-align: middle;\n",
       "    }\n",
       "\n",
       "    .dataframe tbody tr th {\n",
       "        vertical-align: top;\n",
       "    }\n",
       "\n",
       "    .dataframe thead th {\n",
       "        text-align: right;\n",
       "    }\n",
       "</style>\n",
       "<table border=\"1\" class=\"dataframe\">\n",
       "  <thead>\n",
       "    <tr style=\"text-align: right;\">\n",
       "      <th></th>\n",
       "      <th>Age</th>\n",
       "      <th>Blood Pressure</th>\n",
       "      <th>Cholesterol Level</th>\n",
       "      <th>BMI</th>\n",
       "      <th>Sleep Hours</th>\n",
       "      <th>Triglyceride Level</th>\n",
       "      <th>Fasting Blood Sugar</th>\n",
       "      <th>CRP Level</th>\n",
       "      <th>Homocysteine Level</th>\n",
       "      <th>Gen_Male</th>\n",
       "      <th>...</th>\n",
       "      <th>Dia_Yes</th>\n",
       "      <th>HighB_Yes</th>\n",
       "      <th>LowHDL_Yes</th>\n",
       "      <th>HighLDL_Yes</th>\n",
       "      <th>Alch_Low</th>\n",
       "      <th>Alch_Medium</th>\n",
       "      <th>Stress_Low</th>\n",
       "      <th>Stress_Medium</th>\n",
       "      <th>Sugar_Low</th>\n",
       "      <th>Sugar_Medium</th>\n",
       "    </tr>\n",
       "  </thead>\n",
       "  <tbody>\n",
       "    <tr>\n",
       "      <th>6252</th>\n",
       "      <td>-0.612808</td>\n",
       "      <td>1.097412</td>\n",
       "      <td>-1.588567</td>\n",
       "      <td>0.990795</td>\n",
       "      <td>-1.577285</td>\n",
       "      <td>0.803048</td>\n",
       "      <td>1.612823</td>\n",
       "      <td>0.533636</td>\n",
       "      <td>1.142590</td>\n",
       "      <td>1</td>\n",
       "      <td>...</td>\n",
       "      <td>1</td>\n",
       "      <td>0</td>\n",
       "      <td>0</td>\n",
       "      <td>1</td>\n",
       "      <td>0</td>\n",
       "      <td>1</td>\n",
       "      <td>0</td>\n",
       "      <td>0</td>\n",
       "      <td>0</td>\n",
       "      <td>1</td>\n",
       "    </tr>\n",
       "    <tr>\n",
       "      <th>4684</th>\n",
       "      <td>1.532606</td>\n",
       "      <td>1.382044</td>\n",
       "      <td>1.254541</td>\n",
       "      <td>0.117791</td>\n",
       "      <td>-1.082777</td>\n",
       "      <td>0.700079</td>\n",
       "      <td>-1.693003</td>\n",
       "      <td>1.592000</td>\n",
       "      <td>-0.859194</td>\n",
       "      <td>0</td>\n",
       "      <td>...</td>\n",
       "      <td>0</td>\n",
       "      <td>1</td>\n",
       "      <td>0</td>\n",
       "      <td>1</td>\n",
       "      <td>0</td>\n",
       "      <td>0</td>\n",
       "      <td>0</td>\n",
       "      <td>1</td>\n",
       "      <td>0</td>\n",
       "      <td>1</td>\n",
       "    </tr>\n",
       "  </tbody>\n",
       "</table>\n",
       "<p>2 rows × 24 columns</p>\n",
       "</div>"
      ],
      "text/plain": [
       "           Age  Blood Pressure  Cholesterol Level       BMI  Sleep Hours  \\\n",
       "6252 -0.612808        1.097412          -1.588567  0.990795    -1.577285   \n",
       "4684  1.532606        1.382044           1.254541  0.117791    -1.082777   \n",
       "\n",
       "      Triglyceride Level  Fasting Blood Sugar  CRP Level  Homocysteine Level  \\\n",
       "6252            0.803048             1.612823   0.533636            1.142590   \n",
       "4684            0.700079            -1.693003   1.592000           -0.859194   \n",
       "\n",
       "      Gen_Male  ...  Dia_Yes  HighB_Yes  LowHDL_Yes  HighLDL_Yes  Alch_Low  \\\n",
       "6252         1  ...        1          0           0            1         0   \n",
       "4684         0  ...        0          1           0            1         0   \n",
       "\n",
       "      Alch_Medium  Stress_Low  Stress_Medium  Sugar_Low  Sugar_Medium  \n",
       "6252            1           0              0          0             1  \n",
       "4684            0           0              1          0             1  \n",
       "\n",
       "[2 rows x 24 columns]"
      ]
     },
     "execution_count": 16,
     "metadata": {},
     "output_type": "execute_result"
    }
   ],
   "source": [
    "X_test.head(2)"
   ]
  },
  {
   "cell_type": "markdown",
   "id": "7b76a911-a466-4ed0-9e75-a98fcf2e7b4d",
   "metadata": {
    "execution": {
     "iopub.execute_input": "2025-03-19T19:12:49.055269Z",
     "iopub.status.busy": "2025-03-19T19:12:49.054843Z",
     "iopub.status.idle": "2025-03-19T19:12:49.059648Z",
     "shell.execute_reply": "2025-03-19T19:12:49.058614Z",
     "shell.execute_reply.started": "2025-03-19T19:12:49.055236Z"
    }
   },
   "source": [
    "### Missing Data"
   ]
  },
  {
   "cell_type": "code",
   "execution_count": 17,
   "id": "bc2032b4-5cc3-4230-be73-6c37ecd0d06b",
   "metadata": {},
   "outputs": [
    {
     "data": {
      "text/plain": [
       "Age                    25\n",
       "Blood Pressure         16\n",
       "Cholesterol Level      25\n",
       "BMI                    16\n",
       "Sleep Hours            22\n",
       "Triglyceride Level     22\n",
       "Fasting Blood Sugar    12\n",
       "CRP Level              18\n",
       "Homocysteine Level     16\n",
       "Gen_Male                0\n",
       "Exercise_Low            0\n",
       "Exercise_Medium         0\n",
       "Smok_Yes                0\n",
       "Family_Yes              0\n",
       "Dia_Yes                 0\n",
       "HighB_Yes               0\n",
       "LowHDL_Yes              0\n",
       "HighLDL_Yes             0\n",
       "Alch_Low                0\n",
       "Alch_Medium             0\n",
       "Stress_Low              0\n",
       "Stress_Medium           0\n",
       "Sugar_Low               0\n",
       "Sugar_Medium            0\n",
       "dtype: int64"
      ]
     },
     "execution_count": 17,
     "metadata": {},
     "output_type": "execute_result"
    }
   ],
   "source": [
    "X_train.isnull().sum()"
   ]
  },
  {
   "cell_type": "code",
   "execution_count": 18,
   "id": "72271639-d970-4456-83dd-c438c9c98af7",
   "metadata": {},
   "outputs": [
    {
     "data": {
      "text/plain": [
       "Age                    0.25\n",
       "Blood Pressure         0.16\n",
       "Cholesterol Level      0.25\n",
       "BMI                    0.16\n",
       "Sleep Hours            0.22\n",
       "Triglyceride Level     0.22\n",
       "Fasting Blood Sugar    0.12\n",
       "CRP Level              0.18\n",
       "Homocysteine Level     0.16\n",
       "Gen_Male               0.00\n",
       "Exercise_Low           0.00\n",
       "Exercise_Medium        0.00\n",
       "Smok_Yes               0.00\n",
       "Family_Yes             0.00\n",
       "Dia_Yes                0.00\n",
       "HighB_Yes              0.00\n",
       "LowHDL_Yes             0.00\n",
       "HighLDL_Yes            0.00\n",
       "Alch_Low               0.00\n",
       "Alch_Medium            0.00\n",
       "Stress_Low             0.00\n",
       "Stress_Medium          0.00\n",
       "Sugar_Low              0.00\n",
       "Sugar_Medium           0.00\n",
       "dtype: float64"
      ]
     },
     "execution_count": 18,
     "metadata": {},
     "output_type": "execute_result"
    }
   ],
   "source": [
    "(X_train.isnull().sum()/ len(df)) * 100"
   ]
  },
  {
   "cell_type": "code",
   "execution_count": 19,
   "id": "ead90c48-8b26-4f90-aab9-55e943b59313",
   "metadata": {},
   "outputs": [
    {
     "data": {
      "text/plain": [
       "Age                     4\n",
       "Blood Pressure          3\n",
       "Cholesterol Level       5\n",
       "BMI                     6\n",
       "Sleep Hours             3\n",
       "Triglyceride Level      4\n",
       "Fasting Blood Sugar    10\n",
       "CRP Level               8\n",
       "Homocysteine Level      4\n",
       "Gen_Male                0\n",
       "Exercise_Low            0\n",
       "Exercise_Medium         0\n",
       "Smok_Yes                0\n",
       "Family_Yes              0\n",
       "Dia_Yes                 0\n",
       "HighB_Yes               0\n",
       "LowHDL_Yes              0\n",
       "HighLDL_Yes             0\n",
       "Alch_Low                0\n",
       "Alch_Medium             0\n",
       "Stress_Low              0\n",
       "Stress_Medium           0\n",
       "Sugar_Low               0\n",
       "Sugar_Medium            0\n",
       "dtype: int64"
      ]
     },
     "execution_count": 19,
     "metadata": {},
     "output_type": "execute_result"
    }
   ],
   "source": [
    "X_test.isnull().sum()"
   ]
  },
  {
   "cell_type": "code",
   "execution_count": 20,
   "id": "9d747ce2-ebae-4c6d-8131-571c96d8767d",
   "metadata": {},
   "outputs": [
    {
     "data": {
      "text/plain": [
       "Age                    0.04\n",
       "Blood Pressure         0.03\n",
       "Cholesterol Level      0.05\n",
       "BMI                    0.06\n",
       "Sleep Hours            0.03\n",
       "Triglyceride Level     0.04\n",
       "Fasting Blood Sugar    0.10\n",
       "CRP Level              0.08\n",
       "Homocysteine Level     0.04\n",
       "Gen_Male               0.00\n",
       "Exercise_Low           0.00\n",
       "Exercise_Medium        0.00\n",
       "Smok_Yes               0.00\n",
       "Family_Yes             0.00\n",
       "Dia_Yes                0.00\n",
       "HighB_Yes              0.00\n",
       "LowHDL_Yes             0.00\n",
       "HighLDL_Yes            0.00\n",
       "Alch_Low               0.00\n",
       "Alch_Medium            0.00\n",
       "Stress_Low             0.00\n",
       "Stress_Medium          0.00\n",
       "Sugar_Low              0.00\n",
       "Sugar_Medium           0.00\n",
       "dtype: float64"
      ]
     },
     "execution_count": 20,
     "metadata": {},
     "output_type": "execute_result"
    }
   ],
   "source": [
    "(X_test.isnull().sum()/ len(df)) * 100"
   ]
  },
  {
   "cell_type": "code",
   "execution_count": 21,
   "id": "ceb8407f-2e70-487f-9423-089f86c15f59",
   "metadata": {},
   "outputs": [
    {
     "data": {
      "text/plain": [
       "Age                      0.29\n",
       "Gender                   0.19\n",
       "Blood Pressure           0.19\n",
       "Cholesterol Level        0.30\n",
       "Exercise Habits          0.25\n",
       "Smoking                  0.25\n",
       "Family Heart Disease     0.21\n",
       "Diabetes                 0.30\n",
       "BMI                      0.22\n",
       "High Blood Pressure      0.26\n",
       "Low HDL Cholesterol      0.25\n",
       "High LDL Cholesterol     0.26\n",
       "Alcohol Consumption     25.86\n",
       "Stress Level             0.22\n",
       "Sleep Hours              0.25\n",
       "Sugar Consumption        0.30\n",
       "Triglyceride Level       0.26\n",
       "Fasting Blood Sugar      0.22\n",
       "CRP Level                0.26\n",
       "Homocysteine Level       0.20\n",
       "Heart Disease Status     0.00\n",
       "dtype: float64"
      ]
     },
     "execution_count": 21,
     "metadata": {},
     "output_type": "execute_result"
    }
   ],
   "source": [
    "(df.isnull().sum()/ len(df)) * 100"
   ]
  },
  {
   "cell_type": "markdown",
   "id": "e67bdf82-9c3d-4370-b95d-721e88c055a3",
   "metadata": {
    "execution": {
     "iopub.execute_input": "2025-03-19T20:03:56.759194Z",
     "iopub.status.busy": "2025-03-19T20:03:56.758767Z",
     "iopub.status.idle": "2025-03-19T20:03:56.767726Z",
     "shell.execute_reply": "2025-03-19T20:03:56.766476Z",
     "shell.execute_reply.started": "2025-03-19T20:03:56.759164Z"
    }
   },
   "source": [
    "**Overview of Missing Data**:\n",
    "\n",
    "A detailed analysis of missing data was conducted on the dataset. The findings indicate that:\n",
    "\n",
    "* The missing data percentage ranges between 0.19% and 0.30% for most features.\n",
    "\n",
    "* The 'Alcohol Consumption' column has a significantly higher missing data percentage (25.86%), which is approximately one-fourth of the dataset.\n",
    "\n",
    "* No evident correlation was found between missing values and other variables.\n",
    "\n",
    "* There are no outliers in the dataset that could distort the missing data imputation process.\n",
    "\n",
    "**Strategy for Handling Missing Data**:\n",
    "\n",
    "1. Dropping 'Alcohol Consumption' Column:\n",
    "\n",
    "* The missing rate is excessively high (~26%), making it impractical to impute.\n",
    "\n",
    "* Retaining this column and applying imputation could introduce significant biases.\n",
    "\n",
    "* Therefore, the best approach is to remove this column from the dataset.\n",
    "\n",
    "2. Imputing Missing Values for Other Features:\n",
    "\n",
    "* Given the low missing percentages (0.12% - 0.25%), imputation is preferred over deletion.\n",
    "\n",
    "* KNN Imputer will be used for missing value imputation because:\n",
    "\n",
    "    * The dataset has no outliers, making KNN a suitable method.\n",
    "\n",
    "    * Methods like mean/median imputation could distort feature distributions.\n",
    "\n",
    "    * Regression-based imputation might be excessive for a medium-sized dataset.\n",
    "\n",
    "    * KNN Imputer leverages feature similarity to generate realistic missing value replacements.\n",
    "\n",
    "**Final Decision**:\n",
    "\n",
    "* 'Alcohol Consumption' will be removed from the dataset. KNN Imputer will be used to fill missing values in all other columns.\n",
    "\n",
    "* This strategy ensures data integrity while minimizing information loss, thus maintaining the quality of the dataset for machine learning applications."
   ]
  },
  {
   "cell_type": "code",
   "execution_count": 22,
   "id": "ceee1689-e9ab-41c2-9bc2-cf33c93c2197",
   "metadata": {},
   "outputs": [],
   "source": [
    "X_train= X_train.drop([\"Alch_Low\",\"Alch_Medium\"] , axis = 1)\n",
    "X_test= X_test.drop([\"Alch_Low\",\"Alch_Medium\"], axis = 1)"
   ]
  },
  {
   "cell_type": "code",
   "execution_count": 23,
   "id": "059abc48-ded6-4d9f-a88a-441772dc0837",
   "metadata": {},
   "outputs": [
    {
     "name": "stdout",
     "output_type": "stream",
     "text": [
      "Imputing row 1/8000 with 0 missing, elapsed time: 8.952\n",
      "Imputing row 101/8000 with 0 missing, elapsed time: 8.952\n",
      "Imputing row 201/8000 with 0 missing, elapsed time: 8.953\n",
      "Imputing row 301/8000 with 0 missing, elapsed time: 8.953\n",
      "Imputing row 401/8000 with 0 missing, elapsed time: 8.953\n",
      "Imputing row 501/8000 with 0 missing, elapsed time: 8.953\n",
      "Imputing row 601/8000 with 0 missing, elapsed time: 8.953\n",
      "Imputing row 701/8000 with 0 missing, elapsed time: 8.953\n",
      "Imputing row 801/8000 with 0 missing, elapsed time: 8.954\n",
      "Imputing row 901/8000 with 0 missing, elapsed time: 8.954\n",
      "Imputing row 1001/8000 with 0 missing, elapsed time: 8.954\n",
      "Imputing row 1101/8000 with 0 missing, elapsed time: 8.954\n",
      "Imputing row 1201/8000 with 0 missing, elapsed time: 8.954\n",
      "Imputing row 1301/8000 with 0 missing, elapsed time: 8.954\n",
      "Imputing row 1401/8000 with 0 missing, elapsed time: 8.954\n",
      "Imputing row 1501/8000 with 0 missing, elapsed time: 8.955\n",
      "Imputing row 1601/8000 with 0 missing, elapsed time: 8.955\n",
      "Imputing row 1701/8000 with 0 missing, elapsed time: 8.955\n",
      "Imputing row 1801/8000 with 0 missing, elapsed time: 8.955\n",
      "Imputing row 1901/8000 with 0 missing, elapsed time: 8.955\n",
      "Imputing row 2001/8000 with 0 missing, elapsed time: 8.955\n",
      "Imputing row 2101/8000 with 0 missing, elapsed time: 8.955\n",
      "Imputing row 2201/8000 with 0 missing, elapsed time: 8.955\n",
      "Imputing row 2301/8000 with 0 missing, elapsed time: 8.956\n",
      "Imputing row 2401/8000 with 0 missing, elapsed time: 8.956\n",
      "Imputing row 2501/8000 with 0 missing, elapsed time: 8.956\n",
      "Imputing row 2601/8000 with 0 missing, elapsed time: 8.956\n",
      "Imputing row 2701/8000 with 0 missing, elapsed time: 8.956\n",
      "Imputing row 2801/8000 with 0 missing, elapsed time: 8.956\n",
      "Imputing row 2901/8000 with 0 missing, elapsed time: 8.956\n",
      "Imputing row 3001/8000 with 0 missing, elapsed time: 8.957\n",
      "Imputing row 3101/8000 with 0 missing, elapsed time: 8.957\n",
      "Imputing row 3201/8000 with 0 missing, elapsed time: 8.957\n",
      "Imputing row 3301/8000 with 0 missing, elapsed time: 8.957\n",
      "Imputing row 3401/8000 with 0 missing, elapsed time: 8.957\n",
      "Imputing row 3501/8000 with 0 missing, elapsed time: 8.957\n",
      "Imputing row 3601/8000 with 0 missing, elapsed time: 8.957\n",
      "Imputing row 3701/8000 with 0 missing, elapsed time: 8.958\n",
      "Imputing row 3801/8000 with 0 missing, elapsed time: 8.958\n",
      "Imputing row 3901/8000 with 0 missing, elapsed time: 8.958\n",
      "Imputing row 4001/8000 with 0 missing, elapsed time: 8.958\n",
      "Imputing row 4101/8000 with 0 missing, elapsed time: 8.958\n",
      "Imputing row 4201/8000 with 0 missing, elapsed time: 8.958\n",
      "Imputing row 4301/8000 with 0 missing, elapsed time: 8.958\n",
      "Imputing row 4401/8000 with 0 missing, elapsed time: 8.959\n",
      "Imputing row 4501/8000 with 0 missing, elapsed time: 8.959\n",
      "Imputing row 4601/8000 with 0 missing, elapsed time: 8.959\n",
      "Imputing row 4701/8000 with 0 missing, elapsed time: 8.959\n",
      "Imputing row 4801/8000 with 0 missing, elapsed time: 8.959\n",
      "Imputing row 4901/8000 with 0 missing, elapsed time: 8.959\n",
      "Imputing row 5001/8000 with 0 missing, elapsed time: 8.959\n",
      "Imputing row 5101/8000 with 0 missing, elapsed time: 8.959\n",
      "Imputing row 5201/8000 with 0 missing, elapsed time: 8.960\n",
      "Imputing row 5301/8000 with 0 missing, elapsed time: 8.960\n",
      "Imputing row 5401/8000 with 0 missing, elapsed time: 8.960\n",
      "Imputing row 5501/8000 with 0 missing, elapsed time: 8.960\n",
      "Imputing row 5601/8000 with 0 missing, elapsed time: 8.960\n",
      "Imputing row 5701/8000 with 0 missing, elapsed time: 8.960\n",
      "Imputing row 5801/8000 with 0 missing, elapsed time: 8.960\n",
      "Imputing row 5901/8000 with 0 missing, elapsed time: 8.961\n",
      "Imputing row 6001/8000 with 0 missing, elapsed time: 8.961\n",
      "Imputing row 6101/8000 with 0 missing, elapsed time: 8.961\n",
      "Imputing row 6201/8000 with 0 missing, elapsed time: 8.961\n",
      "Imputing row 6301/8000 with 0 missing, elapsed time: 8.961\n",
      "Imputing row 6401/8000 with 0 missing, elapsed time: 8.961\n",
      "Imputing row 6501/8000 with 0 missing, elapsed time: 8.961\n",
      "Imputing row 6601/8000 with 0 missing, elapsed time: 8.962\n",
      "Imputing row 6701/8000 with 0 missing, elapsed time: 8.962\n",
      "Imputing row 6801/8000 with 0 missing, elapsed time: 8.962\n",
      "Imputing row 6901/8000 with 0 missing, elapsed time: 8.962\n",
      "Imputing row 7001/8000 with 0 missing, elapsed time: 8.962\n",
      "Imputing row 7101/8000 with 0 missing, elapsed time: 8.962\n",
      "Imputing row 7201/8000 with 0 missing, elapsed time: 8.962\n",
      "Imputing row 7301/8000 with 0 missing, elapsed time: 8.963\n",
      "Imputing row 7401/8000 with 0 missing, elapsed time: 8.963\n",
      "Imputing row 7501/8000 with 0 missing, elapsed time: 8.963\n",
      "Imputing row 7601/8000 with 0 missing, elapsed time: 8.963\n",
      "Imputing row 7701/8000 with 0 missing, elapsed time: 8.963\n",
      "Imputing row 7801/8000 with 0 missing, elapsed time: 8.963\n",
      "Imputing row 7901/8000 with 0 missing, elapsed time: 8.963\n",
      "Imputing row 1/2000 with 0 missing, elapsed time: 0.514\n",
      "Imputing row 101/2000 with 0 missing, elapsed time: 0.515\n",
      "Imputing row 201/2000 with 0 missing, elapsed time: 0.515\n",
      "Imputing row 301/2000 with 0 missing, elapsed time: 0.515\n",
      "Imputing row 401/2000 with 0 missing, elapsed time: 0.515\n",
      "Imputing row 501/2000 with 0 missing, elapsed time: 0.516\n",
      "Imputing row 601/2000 with 0 missing, elapsed time: 0.516\n",
      "Imputing row 701/2000 with 0 missing, elapsed time: 0.516\n",
      "Imputing row 801/2000 with 0 missing, elapsed time: 0.516\n",
      "Imputing row 901/2000 with 0 missing, elapsed time: 0.516\n",
      "Imputing row 1001/2000 with 0 missing, elapsed time: 0.516\n",
      "Imputing row 1101/2000 with 0 missing, elapsed time: 0.516\n",
      "Imputing row 1201/2000 with 0 missing, elapsed time: 0.517\n",
      "Imputing row 1301/2000 with 0 missing, elapsed time: 0.517\n",
      "Imputing row 1401/2000 with 0 missing, elapsed time: 0.517\n",
      "Imputing row 1501/2000 with 1 missing, elapsed time: 0.517\n",
      "Imputing row 1601/2000 with 0 missing, elapsed time: 0.517\n",
      "Imputing row 1701/2000 with 0 missing, elapsed time: 0.517\n",
      "Imputing row 1801/2000 with 0 missing, elapsed time: 0.517\n",
      "Imputing row 1901/2000 with 0 missing, elapsed time: 0.517\n"
     ]
    }
   ],
   "source": [
    "X_train_filled = knnimput.KNN(k= 5).complete(X_train.values)\n",
    "X_train = pd.DataFrame(X_train_filled ,columns = X_train.columns)\n",
    "\n",
    "X_test_filled = knnimput.KNN(k= 5).complete(X_test.values)\n",
    "X_test = pd.DataFrame(X_test_filled ,columns = X_train.columns)"
   ]
  },
  {
   "cell_type": "code",
   "execution_count": 24,
   "id": "bffdd102-5cea-4c69-b601-2eed68cac5e6",
   "metadata": {
    "scrolled": true
   },
   "outputs": [
    {
     "name": "stdout",
     "output_type": "stream",
     "text": [
      "Age                    0\n",
      "Blood Pressure         0\n",
      "Cholesterol Level      0\n",
      "BMI                    0\n",
      "Sleep Hours            0\n",
      "Triglyceride Level     0\n",
      "Fasting Blood Sugar    0\n",
      "CRP Level              0\n",
      "Homocysteine Level     0\n",
      "Gen_Male               0\n",
      "Exercise_Low           0\n",
      "Exercise_Medium        0\n",
      "Smok_Yes               0\n",
      "Family_Yes             0\n",
      "Dia_Yes                0\n",
      "HighB_Yes              0\n",
      "LowHDL_Yes             0\n",
      "HighLDL_Yes            0\n",
      "Stress_Low             0\n",
      "Stress_Medium          0\n",
      "Sugar_Low              0\n",
      "Sugar_Medium           0\n",
      "dtype: int64\n",
      "----------------------------------------\n",
      "Age                    0\n",
      "Blood Pressure         0\n",
      "Cholesterol Level      0\n",
      "BMI                    0\n",
      "Sleep Hours            0\n",
      "Triglyceride Level     0\n",
      "Fasting Blood Sugar    0\n",
      "CRP Level              0\n",
      "Homocysteine Level     0\n",
      "Gen_Male               0\n",
      "Exercise_Low           0\n",
      "Exercise_Medium        0\n",
      "Smok_Yes               0\n",
      "Family_Yes             0\n",
      "Dia_Yes                0\n",
      "HighB_Yes              0\n",
      "LowHDL_Yes             0\n",
      "HighLDL_Yes            0\n",
      "Stress_Low             0\n",
      "Stress_Medium          0\n",
      "Sugar_Low              0\n",
      "Sugar_Medium           0\n",
      "dtype: int64\n"
     ]
    }
   ],
   "source": [
    "print(X_test.isnull().sum())\n",
    "print(\"----------------------------------------\")\n",
    "print(X_train.isnull().sum())"
   ]
  },
  {
   "cell_type": "code",
   "execution_count": 26,
   "id": "2a39e5b7-82a7-4777-85ca-735c63bd48aa",
   "metadata": {},
   "outputs": [],
   "source": [
    "X_train.to_csv(\"../data/proccessed/X_train.csv\", index=False)\n",
    "X_test.to_csv(\"../data/proccessed/X_test.csv\", index=False)\n",
    "y_train.to_csv(\"../data/proccessed/y_train.csv\", index=False)\n",
    "y_test.to_csv(\"../data/proccessed/y_test.csv\", index=False)"
   ]
  },
  {
   "cell_type": "code",
   "execution_count": null,
   "id": "e6faa652-5d64-4520-a008-030b2acd3d60",
   "metadata": {},
   "outputs": [],
   "source": []
  }
 ],
 "metadata": {
  "kernelspec": {
   "display_name": "Python 3 (ipykernel)",
   "language": "python",
   "name": "python3"
  },
  "language_info": {
   "codemirror_mode": {
    "name": "ipython",
    "version": 3
   },
   "file_extension": ".py",
   "mimetype": "text/x-python",
   "name": "python",
   "nbconvert_exporter": "python",
   "pygments_lexer": "ipython3",
   "version": "3.10.12"
  }
 },
 "nbformat": 4,
 "nbformat_minor": 5
}
