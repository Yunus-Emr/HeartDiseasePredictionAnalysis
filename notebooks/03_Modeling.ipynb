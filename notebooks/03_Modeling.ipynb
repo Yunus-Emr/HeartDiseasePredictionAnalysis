{
 "cells": [
  {
   "cell_type": "code",
   "execution_count": 36,
   "id": "cf90d23c-f31d-49bf-98e5-b650d2ba2e4b",
   "metadata": {},
   "outputs": [],
   "source": [
    "import pandas as pd\n",
    "import matplotlib.pyplot as plt\n",
    "\n",
    "from sklearn.preprocessing import LabelEncoder\n",
    "from sklearn.model_selection import GridSearchCV,cross_val_score\n",
    "from sklearn.metrics import confusion_matrix,accuracy_score ,classification_report\n",
    "from sklearn.metrics import roc_auc_score,roc_curve\n",
    "from sklearn.naive_bayes import GaussianNB\n",
    "from sklearn.svm import SVC\n",
    "from xgboost import XGBClassifier\n",
    "from imblearn.over_sampling import SMOTE\n",
    "from collections import Counter\n",
    "import joblib\n",
    "\n",
    "from warnings import filterwarnings\n",
    "filterwarnings('ignore')"
   ]
  },
  {
   "cell_type": "markdown",
   "id": "1b2c5332-91a3-4a18-b081-0f47100deef8",
   "metadata": {},
   "source": [
    "1. [Machine Learning](#Machine-Learning)\n",
    "    - [Naive Bayes](#Naive-Bayes)\n",
    "        - [Model Introduction N](#Model-Introduction-N)\n",
    "        - [Model Setup-N](#Model-Setup-N)\n",
    "        - [Performance Metrics N](#Performance-Metrics-N)\n",
    "        - [ROC Curve and Confusion Matrix N](#ROC-Curve-and-Confusion-Matrix-N)\n",
    "        - [Comments and Conclusion N](#Comments-and-Conclusion-N)\n",
    "    - [SVC](#SVC)\n",
    "        - [Model Introduction S](#Model-Introduction-S)\n",
    "        - [Model Setup S](#Model-Setup-S)\n",
    "        - [Performance Metrics S](#Performance-Metrics-S)\n",
    "        - [ROC Curve and Confusion Matrix S](#ROC-Curve-and-Confusion-Matrix-S)\n",
    "        - [Comments and Conclusion S](#Comments-and-Conclusion-S)\n",
    "    - [XGBoost](#XGBoost)\n",
    "        - [Model Introduction X](#Model-Introduction-X)\n",
    "        - [Model Setup X](#Model-Setup-X)\n",
    "        - [Performance Metrics X](#Performance-Metrics-X)\n",
    "        - [ROC Curve and Confusion Matrix X](#ROC-Curve-and-Confusion-Matrix-X)\n",
    "        - [Comments and Conclusion X](#Comments-and-Conclusion-X)"
   ]
  },
  {
   "cell_type": "markdown",
   "id": "c78d8b61-03a4-4650-845e-82f67fc31fc2",
   "metadata": {},
   "source": [
    "## Machine Learning"
   ]
  },
  {
   "cell_type": "code",
   "execution_count": 2,
   "id": "0a0d191e-04f3-4796-afea-7f8ed076ca4c",
   "metadata": {},
   "outputs": [],
   "source": [
    "X_train = pd.read_csv(\"../data/proccessed/X_train.csv\").copy()\n",
    "X_test = pd.read_csv(\"../data/proccessed/X_test.csv\").copy()\n",
    "y_train = pd.read_csv(\"../data/proccessed/y_train.csv\").copy()\n",
    "y_test = pd.read_csv(\"../data/proccessed/y_test.csv\").copy()"
   ]
  },
  {
   "cell_type": "markdown",
   "id": "e471db4c-6e58-40e5-960b-e9b3bb8a7d87",
   "metadata": {},
   "source": [
    "### Naive Bayes"
   ]
  },
  {
   "cell_type": "markdown",
   "id": "31472ef0-22c6-4f62-9b4f-4cbd8c4b1e7b",
   "metadata": {},
   "source": [
    "#### Model Introduction N"
   ]
  },
  {
   "cell_type": "markdown",
   "id": "e6e5064e-b22b-4fe0-aedd-d190f1dba7d5",
   "metadata": {},
   "source": [
    "##### Why Naive Bayes?\n",
    "\n",
    "* Naive Bayes is one of the simplest yet surprisingly powerful classification algorithms based on Bayes' Theorem. Despite its simplicity, it performs remarkably well in many real-world situations.\n",
    "\n",
    "\n",
    "##### Reasons for Choosing Naive Bayes in This Project\n",
    "\n",
    "1. Low Feature Correlation\n",
    "    * The features in our dataset have very low correlation with each other, as  shown in the correlation heatmap.\n",
    "    * This fits perfectly with Naive Bayes' \"naive\" assumption that features are independent.\n",
    "\n",
    "2. Speed & Efficiency\n",
    "    * Naive Bayes is computationally very efficient.\n",
    "    * Our dataset has 10,000 records and 24 features—Naive Bayes handles this quickly and with minimal resources.\n",
    "\n",
    "3. Handles Categorical Data Well\n",
    "    * Many features in our dataset are categorical (like Gender, Smoking, Exercise Habits, etc.).\n",
    "    * Naive Bayes is especially good at modeling categorical inputs when properly encoded.\n",
    "\n",
    "4. Baseline Model\n",
    "    * Naive Bayes is often used as a benchmark or baseline model in classification tasks.\n",
    "    * It gives us a quick look at how a basic probabilistic model performs before trying more complex models.\n",
    "\n",
    "5. Robust to Irrelevant Features\n",
    "    * Naive Bayes is not heavily impacted by features that don’t contribute much to the output.\n",
    "    * This helps in early modeling phases, especially before strong feature selection is done."
   ]
  },
  {
   "cell_type": "markdown",
   "id": "7abb3090-0ad9-4992-9d64-3469bfaa18a7",
   "metadata": {},
   "source": [
    "#### Model Setup N"
   ]
  },
  {
   "cell_type": "code",
   "execution_count": 3,
   "id": "a335428c-1a55-40cf-bed7-32f5c10ff253",
   "metadata": {},
   "outputs": [],
   "source": [
    "Naive_model = GaussianNB().fit(X_train,y_train)"
   ]
  },
  {
   "cell_type": "code",
   "execution_count": 4,
   "id": "7af163a6-0f5b-476a-89aa-853c67b0c236",
   "metadata": {},
   "outputs": [
    {
     "data": {
      "text/plain": [
       "{'priors': None, 'var_smoothing': 1e-09}"
      ]
     },
     "execution_count": 4,
     "metadata": {},
     "output_type": "execute_result"
    }
   ],
   "source": [
    "Naive_model.get_params()"
   ]
  },
  {
   "cell_type": "code",
   "execution_count": 5,
   "id": "da59732a-4dc4-4272-993a-06eab269558a",
   "metadata": {},
   "outputs": [
    {
     "data": {
      "text/plain": [
       "array([[0.80007839, 0.19992161],\n",
       "       [0.78476371, 0.21523629],\n",
       "       [0.84274318, 0.15725682],\n",
       "       ...,\n",
       "       [0.82469751, 0.17530249],\n",
       "       [0.74333513, 0.25666487],\n",
       "       [0.79208575, 0.20791425]])"
      ]
     },
     "execution_count": 5,
     "metadata": {},
     "output_type": "execute_result"
    }
   ],
   "source": [
    "Naive_model.predict_proba(X_test)"
   ]
  },
  {
   "cell_type": "code",
   "execution_count": 6,
   "id": "b378e65a-64b7-4089-9103-e42dfcaad9f2",
   "metadata": {},
   "outputs": [],
   "source": [
    "y_pred = Naive_model.predict(X_test)"
   ]
  },
  {
   "cell_type": "code",
   "execution_count": 7,
   "id": "1e580a1b-daf1-40d7-bba7-bfbd32f5fac0",
   "metadata": {},
   "outputs": [
    {
     "data": {
      "text/plain": [
       "array(['No', 'No', 'No', ..., 'No', 'No', 'No'], dtype='<U3')"
      ]
     },
     "execution_count": 7,
     "metadata": {},
     "output_type": "execute_result"
    }
   ],
   "source": [
    "y_pred"
   ]
  },
  {
   "cell_type": "markdown",
   "id": "32002170-ea29-45eb-9f2d-2e5612089926",
   "metadata": {},
   "source": [
    "#### Performance Metrics N"
   ]
  },
  {
   "cell_type": "code",
   "execution_count": 8,
   "id": "37d12f7b-eb71-4191-b316-6d64e34164f3",
   "metadata": {},
   "outputs": [
    {
     "data": {
      "text/plain": [
       "0.8065"
      ]
     },
     "execution_count": 8,
     "metadata": {},
     "output_type": "execute_result"
    }
   ],
   "source": [
    "accuracy_score(y_test, y_pred)"
   ]
  },
  {
   "cell_type": "code",
   "execution_count": 9,
   "id": "91355028-2ab1-4cb4-ac4f-0c454ee12237",
   "metadata": {},
   "outputs": [
    {
     "data": {
      "text/plain": [
       "0.8065"
      ]
     },
     "execution_count": 9,
     "metadata": {},
     "output_type": "execute_result"
    }
   ],
   "source": [
    "cross_val_score(Naive_model , X_test, y_test, cv = 10 ).mean()"
   ]
  },
  {
   "cell_type": "code",
   "execution_count": 10,
   "id": "338abd4a-09c0-4771-809e-c763ceb64781",
   "metadata": {},
   "outputs": [
    {
     "name": "stdout",
     "output_type": "stream",
     "text": [
      "              precision    recall  f1-score   support\n",
      "\n",
      "          No       0.81      1.00      0.89      1613\n",
      "         Yes       0.00      0.00      0.00       387\n",
      "\n",
      "    accuracy                           0.81      2000\n",
      "   macro avg       0.40      0.50      0.45      2000\n",
      "weighted avg       0.65      0.81      0.72      2000\n",
      "\n"
     ]
    }
   ],
   "source": [
    "print(classification_report(y_test,y_pred))"
   ]
  },
  {
   "cell_type": "markdown",
   "id": "184a5989-f868-4728-a942-0edad744ce17",
   "metadata": {},
   "source": [
    "#### ROC Curve and Confusion Matrix N"
   ]
  },
  {
   "cell_type": "code",
   "execution_count": 11,
   "id": "9d8e04f2-d547-4c6c-acc4-af160b3314cd",
   "metadata": {},
   "outputs": [
    {
     "data": {
      "text/plain": [
       "array([[1613,    0],\n",
       "       [ 387,    0]])"
      ]
     },
     "execution_count": 11,
     "metadata": {},
     "output_type": "execute_result"
    }
   ],
   "source": [
    "confusion_matrix(y_test,y_pred)"
   ]
  },
  {
   "cell_type": "code",
   "execution_count": 12,
   "id": "273197e7-a511-4803-ae2d-ddc906f9dcf4",
   "metadata": {},
   "outputs": [],
   "source": [
    "le = LabelEncoder()\n",
    "y_test_encode = le.fit_transform(y_test)\n",
    "y_pred_encode = le.transform(Naive_model.predict(X_test))"
   ]
  },
  {
   "cell_type": "code",
   "execution_count": 13,
   "id": "7dcd42a6-3966-44e6-b914-aec89bdf9b7a",
   "metadata": {},
   "outputs": [
    {
     "data": {
      "image/png": "[encoded data removed]",
      "text/plain": [
       "<Figure size 640x480 with 1 Axes>"
      ]
     },
     "metadata": {},
     "output_type": "display_data"
    }
   ],
   "source": [
    "naive_roc_auc = roc_auc_score(y_test_encode, y_pred_encode)\n",
    "\n",
    "fpr, tpr, thresholds = roc_curve(y_test_encode, Naive_model.predict_proba(X_test)[:,1])\n",
    "\n",
    "plt.figure()\n",
    "plt.plot(fpr, tpr, label = \"AUC (area = %0.2f)\" % naive_roc_auc)\n",
    "plt.plot([0,1], [0,1], \"r--\")\n",
    "plt.xlim([0.0,1.0])\n",
    "plt.ylim([0.0,1.05])\n",
    "plt.xlabel(\"False Positive Rate\")\n",
    "plt.ylabel(\"True Positive Rate\")\n",
    "plt.title(\"ROC Curve\")\n",
    "plt.legend(loc=\"lower right\")\n",
    "plt.show()"
   ]
  },
  {
   "cell_type": "markdown",
   "id": "db54e90d-ef68-499c-b64a-51e2ec51ea84",
   "metadata": {},
   "source": [
    "#### Comments and Conclusion N"
   ]
  },
  {
   "cell_type": "markdown",
   "id": "6f878fd2-a8b1-4d2f-88b1-25f9ed4c5482",
   "metadata": {},
   "source": [
    "\n",
    "##### 1. Model Overview\n",
    "- **Model Type:** Gaussian Naive Bayes  \n",
    "- **Assumption:** Features are conditionally independent.  \n",
    "- **Rationale:** This model was chosen because there is little to no correlation between features, making it a suitable candidate.\n",
    "\n",
    "---\n",
    "\n",
    "##### 2. Performance Metrics\n",
    "- **Accuracy:** 0.8065  \n",
    "- **Cross-Validation Score (10-Fold):** 0.806  \n",
    "- **Precision (No / Yes):** 0.81 / 0.00  \n",
    "- **Recall (No / Yes):** 1.00 / 0.00  \n",
    "- **F1-Score (No / Yes):** 0.89 / 0.00  \n",
    "- **Support (No / Yes):** 1613 / 387  \n",
    "\n",
    "**Interpretation:**  \n",
    "The model performs well on the dominant class (\"No\") but fails completely to predict the minority class (\"Yes\"). This is a clear indication of class imbalance affecting the classifier's performance.\n",
    "\n",
    "---\n",
    "\n",
    "##### 3. ROC Curve & Confusion Matrix\n",
    "- **ROC AUC Score:** 0.50  \n",
    "- **ROC Curve:** Indicates random guessing  \n",
    "- **Confusion Matrix:**\n",
    "\n",
    "**Interpretation:**  \n",
    "The ROC AUC score of 0.50 suggests the model does not distinguish between classes at all. The confusion matrix confirms the model only predicts \"No\" for all instances.\n",
    "\n",
    "---\n",
    "\n",
    "##### 4. Conclusion & Recommendations\n",
    "- **Strength:** High accuracy and strong performance on the majority class.\n",
    "- **Weakness:** Completely fails to classify the minority class (\"Yes\").\n",
    "- **Cause:** Severe class imbalance (No: ~80%, Yes: ~20%).\n",
    "\n",
    "**Next Steps:**\n",
    "- Apply **SMOTE** to balance the dataset.\n",
    "- Experiment with **class_weight='balanced'** in other models.\n",
    "- Try more powerful classifiers like **SVC** and **XGBoost**.\n",
    "\n"
   ]
  },
  {
   "cell_type": "markdown",
   "id": "6ae3d7ad-d4eb-4d5f-86e9-e010eece2c20",
   "metadata": {},
   "source": [
    "### SVC"
   ]
  },
  {
   "cell_type": "markdown",
   "id": "83fb69da-b78b-48bb-8c6c-e33855686df7",
   "metadata": {},
   "source": [
    "#### Model Introduction S"
   ]
  },
  {
   "cell_type": "markdown",
   "id": "75e7c9bc-19f1-4bd4-bd3b-0f71224df789",
   "metadata": {},
   "source": [
    "* Support Vector Classifier (SVC) was selected due to its strength in handling non-linear relationships through the use of kernel functions. In our dataset, there was very little correlation among the features, indicating that linear assumptions may not be sufficient. SVC is particularly effective in such cases as it can construct complex decision boundaries using kernels.\n",
    "\n",
    "* Additionally, our dataset size (10,000 observations and 24 features) is well-suited for SVC, which performs efficiently on medium-sized datasets. It also handles imbalanced classes better than some traditional algorithms when class weights are adjusted.\n",
    "\n",
    "* Therefore, SVC provides a strong candidate for exploring both linear and non-linear decision boundaries within our heart disease prediction task"
   ]
  },
  {
   "cell_type": "markdown",
   "id": "394c374d-6c88-4bf2-8e4a-4dba1ae9a43e",
   "metadata": {},
   "source": [
    "#### Model Setup S"
   ]
  },
  {
   "cell_type": "code",
   "execution_count": 14,
   "id": "b31d2428-4cac-4648-9e28-aa12e0f2231d",
   "metadata": {},
   "outputs": [],
   "source": [
    "Svc_model = SVC(kernel = \"rbf\" , class_weight = \"balanced\",probability = True).fit(X_train,y_train)"
   ]
  },
  {
   "cell_type": "code",
   "execution_count": 15,
   "id": "be68fd21-c7b6-40be-a59a-e4f2636eec38",
   "metadata": {},
   "outputs": [
    {
     "data": {
      "text/plain": [
       "array([[0.79410191, 0.20589809],\n",
       "       [0.79511029, 0.20488971],\n",
       "       [0.80065213, 0.19934787],\n",
       "       ...,\n",
       "       [0.79859309, 0.20140691],\n",
       "       [0.79803054, 0.20196946],\n",
       "       [0.79770614, 0.20229386]])"
      ]
     },
     "execution_count": 15,
     "metadata": {},
     "output_type": "execute_result"
    }
   ],
   "source": [
    "Svc_model.predict_proba(X_test)"
   ]
  },
  {
   "cell_type": "code",
   "execution_count": 16,
   "id": "d1d92f74-3ed9-4a11-b6d5-4baa8fa66040",
   "metadata": {},
   "outputs": [],
   "source": [
    "y_pred = Svc_model.predict(X_test)"
   ]
  },
  {
   "cell_type": "code",
   "execution_count": 17,
   "id": "3d510816-a281-4dc4-ba49-f4b7f9c78a89",
   "metadata": {},
   "outputs": [
    {
     "data": {
      "text/plain": [
       "array(['Yes', 'Yes', 'No', ..., 'No', 'No', 'Yes'], dtype=object)"
      ]
     },
     "execution_count": 17,
     "metadata": {},
     "output_type": "execute_result"
    }
   ],
   "source": [
    "y_pred"
   ]
  },
  {
   "cell_type": "markdown",
   "id": "f0278b88-0bc5-4f03-b52b-ff102019360a",
   "metadata": {},
   "source": [
    "#### Performance Metrics S"
   ]
  },
  {
   "cell_type": "code",
   "execution_count": 18,
   "id": "4fc52974-fefa-4431-9d15-5d5a0e856ff6",
   "metadata": {},
   "outputs": [
    {
     "data": {
      "text/plain": [
       "0.5545"
      ]
     },
     "execution_count": 18,
     "metadata": {},
     "output_type": "execute_result"
    }
   ],
   "source": [
    "accuracy_score(y_test,y_pred)"
   ]
  },
  {
   "cell_type": "code",
   "execution_count": 19,
   "id": "2664e37f-adbf-41de-bd5d-b9723c7ecf1d",
   "metadata": {},
   "outputs": [
    {
     "data": {
      "text/plain": [
       "0.601"
      ]
     },
     "execution_count": 19,
     "metadata": {},
     "output_type": "execute_result"
    }
   ],
   "source": [
    "cross_val_score(Svc_model , X_test, y_test, cv = 10 ).mean()"
   ]
  },
  {
   "cell_type": "code",
   "execution_count": 20,
   "id": "e565869a-f050-4f84-bbbe-c02676a6a886",
   "metadata": {},
   "outputs": [
    {
     "name": "stdout",
     "output_type": "stream",
     "text": [
      "              precision    recall  f1-score   support\n",
      "\n",
      "          No       0.81      0.58      0.68      1613\n",
      "         Yes       0.20      0.43      0.27       387\n",
      "\n",
      "    accuracy                           0.55      2000\n",
      "   macro avg       0.50      0.51      0.48      2000\n",
      "weighted avg       0.69      0.55      0.60      2000\n",
      "\n"
     ]
    }
   ],
   "source": [
    "print(classification_report(y_test,y_pred))"
   ]
  },
  {
   "cell_type": "markdown",
   "id": "547635b5-805a-4429-a0ac-22b695324e05",
   "metadata": {},
   "source": [
    "#### ROC Curve and Confusion Matrix S"
   ]
  },
  {
   "cell_type": "code",
   "execution_count": 21,
   "id": "0f59251f-c501-4bf8-9a28-6be9a4d17c31",
   "metadata": {},
   "outputs": [
    {
     "data": {
      "text/plain": [
       "array([[943, 670],\n",
       "       [221, 166]])"
      ]
     },
     "execution_count": 21,
     "metadata": {},
     "output_type": "execute_result"
    }
   ],
   "source": [
    "confusion_matrix(y_test,y_pred)"
   ]
  },
  {
   "cell_type": "code",
   "execution_count": 22,
   "id": "1c6364fe-0e80-4e0a-9c01-55c2dc0ceae0",
   "metadata": {},
   "outputs": [],
   "source": [
    "le = LabelEncoder()\n",
    "y_test_encode = le.fit_transform(y_test)\n",
    "y_pred_encode = le.transform(Svc_model.predict(X_test))"
   ]
  },
  {
   "cell_type": "code",
   "execution_count": 23,
   "id": "047fb7a9-2820-43e1-8720-c3c4c0d3f59f",
   "metadata": {},
   "outputs": [
    {
     "data": {
      "image/png": "[encoded data removed]",
      "text/plain": [
       "<Figure size 640x480 with 1 Axes>"
      ]
     },
     "metadata": {},
     "output_type": "display_data"
    }
   ],
   "source": [
    "Svc_roc_auc = roc_auc_score(y_test_encode, y_pred_encode)\n",
    "\n",
    "fpr, tpr, thresholds = roc_curve(y_test_encode, Svc_model.predict_proba(X_test)[:,1])\n",
    "\n",
    "plt.figure()\n",
    "plt.plot(fpr, tpr, label = \"AUC (area = %0.2f)\" % Svc_roc_auc)\n",
    "plt.plot([0,1], [0,1], \"r--\")\n",
    "plt.xlim([0.0,1.0])\n",
    "plt.ylim([0.0,1.05])\n",
    "plt.xlabel(\"False Positive Rate\")\n",
    "plt.ylabel(\"True Positive Rate\")\n",
    "plt.title(\"ROC Curve\")\n",
    "plt.legend(loc=\"lower right\")\n",
    "plt.show()"
   ]
  },
  {
   "cell_type": "markdown",
   "id": "fa5a0aab-66a2-4b88-a30c-5b07bd67b21c",
   "metadata": {},
   "source": [
    "#### Comments and Conclusion S"
   ]
  },
  {
   "cell_type": "markdown",
   "id": "f60e89ca-b72d-4098-a524-5cfe8156d472",
   "metadata": {},
   "source": [
    "* Although the SVC model provided improved F1-Score and Recall metrics compared to Naive Bayes, the overall model performance is still unsatisfactory. The ROC-AUC score remains close to **0.50**, indicating that the model is no better than random guessing in distinguishing between the positive and negative classes.\n",
    "\n",
    "* Different kernel functions including `poly` and `sigmoid` were also tested, but they similarly resulted in ROC-AUC scores around **0.50**. This suggests that the SVC model may not be the most suitable choice for this dataset.\n",
    "\n",
    "* Despite tuning for class imbalance and enabling probabilistic predictions, SVC failed to achieve a reliable performance. Therefore, we will proceed with trying more powerful models like **XGBoost**, which are often better suited for structured tabular data with complex feature interactions.\n"
   ]
  },
  {
   "cell_type": "markdown",
   "id": "7a1b5e35-9c41-4f01-a5d0-68ebac39b406",
   "metadata": {},
   "source": [
    "### XGBoost"
   ]
  },
  {
   "cell_type": "markdown",
   "id": "c56afc33-4ce6-4cbe-acb3-a60cbec81a9a",
   "metadata": {},
   "source": [
    "#### Model Introduction X"
   ]
  },
  {
   "cell_type": "markdown",
   "id": "f7427494-4b62-4d92-82f0-8276de2dd851",
   "metadata": {},
   "source": [
    "In this section, we explore the use of the XGBoost (Extreme Gradient Boosting) algorithm. XGBoost is known for its efficiency, accuracy, and scalability in classification problems. It is a powerful implementation of gradient boosting that often outperforms other models, especially when capturing complex patterns in data.\n",
    "\n",
    "We selected XGBoost for the following reasons:\n",
    "\n",
    "* Handles Nonlinear Relationships: Unlike linear models, XGBoost can capture both linear and nonlinear patterns in the data using its tree-based architecture.\n",
    "\n",
    "* Robust to Feature Interactions: With 24 features in our dataset, including potentially redundant or interacting ones, XGBoost's boosting mechanism can automatically learn these interactions.\n",
    "\n",
    "* Handles Imbalanced Data with Class Weights or Custom Objectives: This flexibility is especially useful in our case, where the target class is imbalanced (Yes: ~20%).\n",
    "\n",
    "* Regularization and Early Stopping: Helps reduce overfitting, which is critical when working with tabular data that might contain noise.\n",
    "\n",
    "* Scalable to Medium-Sized Datasets: Our dataset (~10,000 rows) fits comfortably into XGBoost’s sweet spot in terms of size and computational efficiency.\n",
    "\n",
    "* Superior Performance Compared to Traditional Models: As observed in many Kaggle competitions and real-world applications, XGBoost often outperforms models like logistic regression, decision trees, and even SVMs when tuned properly.\n",
    "\n",
    "* Thus, XGBoost is an ideal candidate to test for both performance and generalization in this heart disease prediction task."
   ]
  },
  {
   "cell_type": "markdown",
   "id": "a4ff7997-3faf-45f4-b6d9-a117ac13bb3c",
   "metadata": {},
   "source": [
    "#### Model Setup X"
   ]
  },
  {
   "cell_type": "code",
   "execution_count": 24,
   "id": "8e96054c-e477-48f6-88de-c212077519eb",
   "metadata": {},
   "outputs": [],
   "source": [
    "smote = SMOTE(random_state=42)\n",
    "X_train_smote, y_train_smote = smote.fit_resample(X_train, y_train)"
   ]
  },
  {
   "cell_type": "code",
   "execution_count": 25,
   "id": "8f2f0b7b-aed8-4d19-91ca-95f2fa32087e",
   "metadata": {},
   "outputs": [
    {
     "name": "stdout",
     "output_type": "stream",
     "text": [
      "Before SMOTE: Counter({'Heart Disease Status': 1})\n",
      "After SMOTE: Counter({'Heart Disease Status': 1})\n"
     ]
    }
   ],
   "source": [
    "print(\"Before SMOTE:\", Counter(y_train))\n",
    "print(\"After SMOTE:\", Counter(y_train_smote))"
   ]
  },
  {
   "cell_type": "code",
   "execution_count": 26,
   "id": "0b4916cd-bc2b-4f32-bb10-51839988bc63",
   "metadata": {},
   "outputs": [],
   "source": [
    "y_train_encode = le.fit_transform(y_train_smote)"
   ]
  },
  {
   "cell_type": "code",
   "execution_count": 35,
   "id": "07a2c80e-fe7c-4c69-9683-7847195d0fef",
   "metadata": {},
   "outputs": [
    {
     "data": {
      "text/html": [
       "<style>#sk-container-id-2 {\n",
       "  /* Definition of color scheme common for light and dark mode */\n",
       "  --sklearn-color-text: #000;\n",
       "  --sklearn-color-text-muted: #666;\n",
       "  --sklearn-color-line: gray;\n",
       "  /* Definition of color scheme for unfitted estimators */\n",
       "  --sklearn-color-unfitted-level-0: #fff5e6;\n",
       "  --sklearn-color-unfitted-level-1: #f6e4d2;\n",
       "  --sklearn-color-unfitted-level-2: #ffe0b3;\n",
       "  --sklearn-color-unfitted-level-3: chocolate;\n",
       "  /* Definition of color scheme for fitted estimators */\n",
       "  --sklearn-color-fitted-level-0: #f0f8ff;\n",
       "  --sklearn-color-fitted-level-1: #d4ebff;\n",
       "  --sklearn-color-fitted-level-2: #b3dbfd;\n",
       "  --sklearn-color-fitted-level-3: cornflowerblue;\n",
       "\n",
       "  /* Specific color for light theme */\n",
       "  --sklearn-color-text-on-default-background: var(--sg-text-color, var(--theme-code-foreground, var(--jp-content-font-color1, black)));\n",
       "  --sklearn-color-background: var(--sg-background-color, var(--theme-background, var(--jp-layout-color0, white)));\n",
       "  --sklearn-color-border-box: var(--sg-text-color, var(--theme-code-foreground, var(--jp-content-font-color1, black)));\n",
       "  --sklearn-color-icon: #696969;\n",
       "\n",
       "  @media (prefers-color-scheme: dark) {\n",
       "    /* Redefinition of color scheme for dark theme */\n",
       "    --sklearn-color-text-on-default-background: var(--sg-text-color, var(--theme-code-foreground, var(--jp-content-font-color1, white)));\n",
       "    --sklearn-color-background: var(--sg-background-color, var(--theme-background, var(--jp-layout-color0, #111)));\n",
       "    --sklearn-color-border-box: var(--sg-text-color, var(--theme-code-foreground, var(--jp-content-font-color1, white)));\n",
       "    --sklearn-color-icon: #878787;\n",
       "  }\n",
       "}\n",
       "\n",
       "#sk-container-id-2 {\n",
       "  color: var(--sklearn-color-text);\n",
       "}\n",
       "\n",
       "#sk-container-id-2 pre {\n",
       "  padding: 0;\n",
       "}\n",
       "\n",
       "#sk-container-id-2 input.sk-hidden--visually {\n",
       "  border: 0;\n",
       "  clip: rect(1px 1px 1px 1px);\n",
       "  clip: rect(1px, 1px, 1px, 1px);\n",
       "  height: 1px;\n",
       "  margin: -1px;\n",
       "  overflow: hidden;\n",
       "  padding: 0;\n",
       "  position: absolute;\n",
       "  width: 1px;\n",
       "}\n",
       "\n",
       "#sk-container-id-2 div.sk-dashed-wrapped {\n",
       "  border: 1px dashed var(--sklearn-color-line);\n",
       "  margin: 0 0.4em 0.5em 0.4em;\n",
       "  box-sizing: border-box;\n",
       "  padding-bottom: 0.4em;\n",
       "  background-color: var(--sklearn-color-background);\n",
       "}\n",
       "\n",
       "#sk-container-id-2 div.sk-container {\n",
       "  /* jupyter's `normalize.less` sets `[hidden] { display: none; }`\n",
       "     but bootstrap.min.css set `[hidden] { display: none !important; }`\n",
       "     so we also need the `!important` here to be able to override the\n",
       "     default hidden behavior on the sphinx rendered scikit-learn.org.\n",
       "     See: https://github.com/scikit-learn/scikit-learn/issues/21755 */\n",
       "  display: inline-block !important;\n",
       "  position: relative;\n",
       "}\n",
       "\n",
       "#sk-container-id-2 div.sk-text-repr-fallback {\n",
       "  display: none;\n",
       "}\n",
       "\n",
       "div.sk-parallel-item,\n",
       "div.sk-serial,\n",
       "div.sk-item {\n",
       "  /* draw centered vertical line to link estimators */\n",
       "  background-image: linear-gradient(var(--sklearn-color-text-on-default-background), var(--sklearn-color-text-on-default-background));\n",
       "  background-size: 2px 100%;\n",
       "  background-repeat: no-repeat;\n",
       "  background-position: center center;\n",
       "}\n",
       "\n",
       "/* Parallel-specific style estimator block */\n",
       "\n",
       "#sk-container-id-2 div.sk-parallel-item::after {\n",
       "  content: \"\";\n",
       "  width: 100%;\n",
       "  border-bottom: 2px solid var(--sklearn-color-text-on-default-background);\n",
       "  flex-grow: 1;\n",
       "}\n",
       "\n",
       "#sk-container-id-2 div.sk-parallel {\n",
       "  display: flex;\n",
       "  align-items: stretch;\n",
       "  justify-content: center;\n",
       "  background-color: var(--sklearn-color-background);\n",
       "  position: relative;\n",
       "}\n",
       "\n",
       "#sk-container-id-2 div.sk-parallel-item {\n",
       "  display: flex;\n",
       "  flex-direction: column;\n",
       "}\n",
       "\n",
       "#sk-container-id-2 div.sk-parallel-item:first-child::after {\n",
       "  align-self: flex-end;\n",
       "  width: 50%;\n",
       "}\n",
       "\n",
       "#sk-container-id-2 div.sk-parallel-item:last-child::after {\n",
       "  align-self: flex-start;\n",
       "  width: 50%;\n",
       "}\n",
       "\n",
       "#sk-container-id-2 div.sk-parallel-item:only-child::after {\n",
       "  width: 0;\n",
       "}\n",
       "\n",
       "/* Serial-specific style estimator block */\n",
       "\n",
       "#sk-container-id-2 div.sk-serial {\n",
       "  display: flex;\n",
       "  flex-direction: column;\n",
       "  align-items: center;\n",
       "  background-color: var(--sklearn-color-background);\n",
       "  padding-right: 1em;\n",
       "  padding-left: 1em;\n",
       "}\n",
       "\n",
       "\n",
       "/* Toggleable style: style used for estimator/Pipeline/ColumnTransformer box that is\n",
       "clickable and can be expanded/collapsed.\n",
       "- Pipeline and ColumnTransformer use this feature and define the default style\n",
       "- Estimators will overwrite some part of the style using the `sk-estimator` class\n",
       "*/\n",
       "\n",
       "/* Pipeline and ColumnTransformer style (default) */\n",
       "\n",
       "#sk-container-id-2 div.sk-toggleable {\n",
       "  /* Default theme specific background. It is overwritten whether we have a\n",
       "  specific estimator or a Pipeline/ColumnTransformer */\n",
       "  background-color: var(--sklearn-color-background);\n",
       "}\n",
       "\n",
       "/* Toggleable label */\n",
       "#sk-container-id-2 label.sk-toggleable__label {\n",
       "  cursor: pointer;\n",
       "  display: flex;\n",
       "  width: 100%;\n",
       "  margin-bottom: 0;\n",
       "  padding: 0.5em;\n",
       "  box-sizing: border-box;\n",
       "  text-align: center;\n",
       "  align-items: start;\n",
       "  justify-content: space-between;\n",
       "  gap: 0.5em;\n",
       "}\n",
       "\n",
       "#sk-container-id-2 label.sk-toggleable__label .caption {\n",
       "  font-size: 0.6rem;\n",
       "  font-weight: lighter;\n",
       "  color: var(--sklearn-color-text-muted);\n",
       "}\n",
       "\n",
       "#sk-container-id-2 label.sk-toggleable__label-arrow:before {\n",
       "  /* Arrow on the left of the label */\n",
       "  content: \"▸\";\n",
       "  float: left;\n",
       "  margin-right: 0.25em;\n",
       "  color: var(--sklearn-color-icon);\n",
       "}\n",
       "\n",
       "#sk-container-id-2 label.sk-toggleable__label-arrow:hover:before {\n",
       "  color: var(--sklearn-color-text);\n",
       "}\n",
       "\n",
       "/* Toggleable content - dropdown */\n",
       "\n",
       "#sk-container-id-2 div.sk-toggleable__content {\n",
       "  max-height: 0;\n",
       "  max-width: 0;\n",
       "  overflow: hidden;\n",
       "  text-align: left;\n",
       "  /* unfitted */\n",
       "  background-color: var(--sklearn-color-unfitted-level-0);\n",
       "}\n",
       "\n",
       "#sk-container-id-2 div.sk-toggleable__content.fitted {\n",
       "  /* fitted */\n",
       "  background-color: var(--sklearn-color-fitted-level-0);\n",
       "}\n",
       "\n",
       "#sk-container-id-2 div.sk-toggleable__content pre {\n",
       "  margin: 0.2em;\n",
       "  border-radius: 0.25em;\n",
       "  color: var(--sklearn-color-text);\n",
       "  /* unfitted */\n",
       "  background-color: var(--sklearn-color-unfitted-level-0);\n",
       "}\n",
       "\n",
       "#sk-container-id-2 div.sk-toggleable__content.fitted pre {\n",
       "  /* unfitted */\n",
       "  background-color: var(--sklearn-color-fitted-level-0);\n",
       "}\n",
       "\n",
       "#sk-container-id-2 input.sk-toggleable__control:checked~div.sk-toggleable__content {\n",
       "  /* Expand drop-down */\n",
       "  max-height: 200px;\n",
       "  max-width: 100%;\n",
       "  overflow: auto;\n",
       "}\n",
       "\n",
       "#sk-container-id-2 input.sk-toggleable__control:checked~label.sk-toggleable__label-arrow:before {\n",
       "  content: \"▾\";\n",
       "}\n",
       "\n",
       "/* Pipeline/ColumnTransformer-specific style */\n",
       "\n",
       "#sk-container-id-2 div.sk-label input.sk-toggleable__control:checked~label.sk-toggleable__label {\n",
       "  color: var(--sklearn-color-text);\n",
       "  background-color: var(--sklearn-color-unfitted-level-2);\n",
       "}\n",
       "\n",
       "#sk-container-id-2 div.sk-label.fitted input.sk-toggleable__control:checked~label.sk-toggleable__label {\n",
       "  background-color: var(--sklearn-color-fitted-level-2);\n",
       "}\n",
       "\n",
       "/* Estimator-specific style */\n",
       "\n",
       "/* Colorize estimator box */\n",
       "#sk-container-id-2 div.sk-estimator input.sk-toggleable__control:checked~label.sk-toggleable__label {\n",
       "  /* unfitted */\n",
       "  background-color: var(--sklearn-color-unfitted-level-2);\n",
       "}\n",
       "\n",
       "#sk-container-id-2 div.sk-estimator.fitted input.sk-toggleable__control:checked~label.sk-toggleable__label {\n",
       "  /* fitted */\n",
       "  background-color: var(--sklearn-color-fitted-level-2);\n",
       "}\n",
       "\n",
       "#sk-container-id-2 div.sk-label label.sk-toggleable__label,\n",
       "#sk-container-id-2 div.sk-label label {\n",
       "  /* The background is the default theme color */\n",
       "  color: var(--sklearn-color-text-on-default-background);\n",
       "}\n",
       "\n",
       "/* On hover, darken the color of the background */\n",
       "#sk-container-id-2 div.sk-label:hover label.sk-toggleable__label {\n",
       "  color: var(--sklearn-color-text);\n",
       "  background-color: var(--sklearn-color-unfitted-level-2);\n",
       "}\n",
       "\n",
       "/* Label box, darken color on hover, fitted */\n",
       "#sk-container-id-2 div.sk-label.fitted:hover label.sk-toggleable__label.fitted {\n",
       "  color: var(--sklearn-color-text);\n",
       "  background-color: var(--sklearn-color-fitted-level-2);\n",
       "}\n",
       "\n",
       "/* Estimator label */\n",
       "\n",
       "#sk-container-id-2 div.sk-label label {\n",
       "  font-family: monospace;\n",
       "  font-weight: bold;\n",
       "  display: inline-block;\n",
       "  line-height: 1.2em;\n",
       "}\n",
       "\n",
       "#sk-container-id-2 div.sk-label-container {\n",
       "  text-align: center;\n",
       "}\n",
       "\n",
       "/* Estimator-specific */\n",
       "#sk-container-id-2 div.sk-estimator {\n",
       "  font-family: monospace;\n",
       "  border: 1px dotted var(--sklearn-color-border-box);\n",
       "  border-radius: 0.25em;\n",
       "  box-sizing: border-box;\n",
       "  margin-bottom: 0.5em;\n",
       "  /* unfitted */\n",
       "  background-color: var(--sklearn-color-unfitted-level-0);\n",
       "}\n",
       "\n",
       "#sk-container-id-2 div.sk-estimator.fitted {\n",
       "  /* fitted */\n",
       "  background-color: var(--sklearn-color-fitted-level-0);\n",
       "}\n",
       "\n",
       "/* on hover */\n",
       "#sk-container-id-2 div.sk-estimator:hover {\n",
       "  /* unfitted */\n",
       "  background-color: var(--sklearn-color-unfitted-level-2);\n",
       "}\n",
       "\n",
       "#sk-container-id-2 div.sk-estimator.fitted:hover {\n",
       "  /* fitted */\n",
       "  background-color: var(--sklearn-color-fitted-level-2);\n",
       "}\n",
       "\n",
       "/* Specification for estimator info (e.g. \"i\" and \"?\") */\n",
       "\n",
       "/* Common style for \"i\" and \"?\" */\n",
       "\n",
       ".sk-estimator-doc-link,\n",
       "a:link.sk-estimator-doc-link,\n",
       "a:visited.sk-estimator-doc-link {\n",
       "  float: right;\n",
       "  font-size: smaller;\n",
       "  line-height: 1em;\n",
       "  font-family: monospace;\n",
       "  background-color: var(--sklearn-color-background);\n",
       "  border-radius: 1em;\n",
       "  height: 1em;\n",
       "  width: 1em;\n",
       "  text-decoration: none !important;\n",
       "  margin-left: 0.5em;\n",
       "  text-align: center;\n",
       "  /* unfitted */\n",
       "  border: var(--sklearn-color-unfitted-level-1) 1pt solid;\n",
       "  color: var(--sklearn-color-unfitted-level-1);\n",
       "}\n",
       "\n",
       ".sk-estimator-doc-link.fitted,\n",
       "a:link.sk-estimator-doc-link.fitted,\n",
       "a:visited.sk-estimator-doc-link.fitted {\n",
       "  /* fitted */\n",
       "  border: var(--sklearn-color-fitted-level-1) 1pt solid;\n",
       "  color: var(--sklearn-color-fitted-level-1);\n",
       "}\n",
       "\n",
       "/* On hover */\n",
       "div.sk-estimator:hover .sk-estimator-doc-link:hover,\n",
       ".sk-estimator-doc-link:hover,\n",
       "div.sk-label-container:hover .sk-estimator-doc-link:hover,\n",
       ".sk-estimator-doc-link:hover {\n",
       "  /* unfitted */\n",
       "  background-color: var(--sklearn-color-unfitted-level-3);\n",
       "  color: var(--sklearn-color-background);\n",
       "  text-decoration: none;\n",
       "}\n",
       "\n",
       "div.sk-estimator.fitted:hover .sk-estimator-doc-link.fitted:hover,\n",
       ".sk-estimator-doc-link.fitted:hover,\n",
       "div.sk-label-container:hover .sk-estimator-doc-link.fitted:hover,\n",
       ".sk-estimator-doc-link.fitted:hover {\n",
       "  /* fitted */\n",
       "  background-color: var(--sklearn-color-fitted-level-3);\n",
       "  color: var(--sklearn-color-background);\n",
       "  text-decoration: none;\n",
       "}\n",
       "\n",
       "/* Span, style for the box shown on hovering the info icon */\n",
       ".sk-estimator-doc-link span {\n",
       "  display: none;\n",
       "  z-index: 9999;\n",
       "  position: relative;\n",
       "  font-weight: normal;\n",
       "  right: .2ex;\n",
       "  padding: .5ex;\n",
       "  margin: .5ex;\n",
       "  width: min-content;\n",
       "  min-width: 20ex;\n",
       "  max-width: 50ex;\n",
       "  color: var(--sklearn-color-text);\n",
       "  box-shadow: 2pt 2pt 4pt #999;\n",
       "  /* unfitted */\n",
       "  background: var(--sklearn-color-unfitted-level-0);\n",
       "  border: .5pt solid var(--sklearn-color-unfitted-level-3);\n",
       "}\n",
       "\n",
       ".sk-estimator-doc-link.fitted span {\n",
       "  /* fitted */\n",
       "  background: var(--sklearn-color-fitted-level-0);\n",
       "  border: var(--sklearn-color-fitted-level-3);\n",
       "}\n",
       "\n",
       ".sk-estimator-doc-link:hover span {\n",
       "  display: block;\n",
       "}\n",
       "\n",
       "/* \"?\"-specific style due to the `<a>` HTML tag */\n",
       "\n",
       "#sk-container-id-2 a.estimator_doc_link {\n",
       "  float: right;\n",
       "  font-size: 1rem;\n",
       "  line-height: 1em;\n",
       "  font-family: monospace;\n",
       "  background-color: var(--sklearn-color-background);\n",
       "  border-radius: 1rem;\n",
       "  height: 1rem;\n",
       "  width: 1rem;\n",
       "  text-decoration: none;\n",
       "  /* unfitted */\n",
       "  color: var(--sklearn-color-unfitted-level-1);\n",
       "  border: var(--sklearn-color-unfitted-level-1) 1pt solid;\n",
       "}\n",
       "\n",
       "#sk-container-id-2 a.estimator_doc_link.fitted {\n",
       "  /* fitted */\n",
       "  border: var(--sklearn-color-fitted-level-1) 1pt solid;\n",
       "  color: var(--sklearn-color-fitted-level-1);\n",
       "}\n",
       "\n",
       "/* On hover */\n",
       "#sk-container-id-2 a.estimator_doc_link:hover {\n",
       "  /* unfitted */\n",
       "  background-color: var(--sklearn-color-unfitted-level-3);\n",
       "  color: var(--sklearn-color-background);\n",
       "  text-decoration: none;\n",
       "}\n",
       "\n",
       "#sk-container-id-2 a.estimator_doc_link.fitted:hover {\n",
       "  /* fitted */\n",
       "  background-color: var(--sklearn-color-fitted-level-3);\n",
       "}\n",
       "</style><div id=\"sk-container-id-2\" class=\"sk-top-container\"><div class=\"sk-text-repr-fallback\"><pre>XGBClassifier(base_score=None, booster=None, callbacks=None,\n",
       "              colsample_bylevel=None, colsample_bynode=None,\n",
       "              colsample_bytree=None, device=None, early_stopping_rounds=None,\n",
       "              enable_categorical=False, eval_metric=&#x27;logloss&#x27;,\n",
       "              feature_types=None, feature_weights=None, gamma=None,\n",
       "              grow_policy=None, importance_type=None,\n",
       "              interaction_constraints=None, learning_rate=None, max_bin=None,\n",
       "              max_cat_threshold=None, max_cat_to_onehot=None,\n",
       "              max_delta_step=None, max_depth=None, max_leaves=None,\n",
       "              min_child_weight=None, missing=nan, monotone_constraints=None,\n",
       "              multi_strategy=None, n_estimators=None, n_jobs=None,\n",
       "              num_parallel_tree=None, ...)</pre><b>In a Jupyter environment, please rerun this cell to show the HTML representation or trust the notebook. <br />On GitHub, the HTML representation is unable to render, please try loading this page with nbviewer.org.</b></div><div class=\"sk-container\" hidden><div class=\"sk-item\"><div class=\"sk-estimator fitted sk-toggleable\"><input class=\"sk-toggleable__control sk-hidden--visually\" id=\"sk-estimator-id-2\" type=\"checkbox\" checked><label for=\"sk-estimator-id-2\" class=\"sk-toggleable__label fitted sk-toggleable__label-arrow\"><div><div>XGBClassifier</div></div><div><a class=\"sk-estimator-doc-link fitted\" rel=\"noreferrer\" target=\"_blank\" href=\"https://xgboost.readthedocs.io/en/release_3.0.0/python/python_api.html#xgboost.XGBClassifier\">?<span>Documentation for XGBClassifier</span></a><span class=\"sk-estimator-doc-link fitted\">i<span>Fitted</span></span></div></label><div class=\"sk-toggleable__content fitted\"><pre>XGBClassifier(base_score=None, booster=None, callbacks=None,\n",
       "              colsample_bylevel=None, colsample_bynode=None,\n",
       "              colsample_bytree=None, device=None, early_stopping_rounds=None,\n",
       "              enable_categorical=False, eval_metric=&#x27;logloss&#x27;,\n",
       "              feature_types=None, feature_weights=None, gamma=None,\n",
       "              grow_policy=None, importance_type=None,\n",
       "              interaction_constraints=None, learning_rate=None, max_bin=None,\n",
       "              max_cat_threshold=None, max_cat_to_onehot=None,\n",
       "              max_delta_step=None, max_depth=None, max_leaves=None,\n",
       "              min_child_weight=None, missing=nan, monotone_constraints=None,\n",
       "              multi_strategy=None, n_estimators=None, n_jobs=None,\n",
       "              num_parallel_tree=None, ...)</pre></div> </div></div></div></div>"
      ],
      "text/plain": [
       "XGBClassifier(base_score=None, booster=None, callbacks=None,\n",
       "              colsample_bylevel=None, colsample_bynode=None,\n",
       "              colsample_bytree=None, device=None, early_stopping_rounds=None,\n",
       "              enable_categorical=False, eval_metric='logloss',\n",
       "              feature_types=None, feature_weights=None, gamma=None,\n",
       "              grow_policy=None, importance_type=None,\n",
       "              interaction_constraints=None, learning_rate=None, max_bin=None,\n",
       "              max_cat_threshold=None, max_cat_to_onehot=None,\n",
       "              max_delta_step=None, max_depth=None, max_leaves=None,\n",
       "              min_child_weight=None, missing=nan, monotone_constraints=None,\n",
       "              multi_strategy=None, n_estimators=None, n_jobs=None,\n",
       "              num_parallel_tree=None, ...)"
      ]
     },
     "execution_count": 35,
     "metadata": {},
     "output_type": "execute_result"
    }
   ],
   "source": [
    "xgb_model = XGBClassifier(\n",
    "    scale_pos_weight=1, \n",
    "    use_label_encoder=False,\n",
    "    eval_metric='logloss',\n",
    "    random_state=42\n",
    ")\n",
    "\n",
    "xgb_model.fit(X_train_smote, y_train_encode)"
   ]
  },
  {
   "cell_type": "code",
   "execution_count": 28,
   "id": "2e7e65aa-918e-45a3-83dd-85925d922c16",
   "metadata": {},
   "outputs": [],
   "source": [
    "y_pred = xgb_model.predict(X_test)\n",
    "y_proba = xgb_model.predict_proba(X_test)[:, 1] "
   ]
  },
  {
   "cell_type": "code",
   "execution_count": 29,
   "id": "8a8cda10-20dc-4c62-9894-0d6c386b27ed",
   "metadata": {},
   "outputs": [],
   "source": [
    "y_test_encode = le.fit_transform(y_test)\n",
    "y_pred_encode = xgb_model.predict(X_test)"
   ]
  },
  {
   "cell_type": "markdown",
   "id": "2896812e-7182-42ea-9fbf-0ceae148b68c",
   "metadata": {},
   "source": [
    "#### Performance Metrics X"
   ]
  },
  {
   "cell_type": "code",
   "execution_count": 30,
   "id": "1eb5513c-6d3b-4f74-8e2b-e6bcd00ef852",
   "metadata": {},
   "outputs": [
    {
     "data": {
      "text/plain": [
       "0.777"
      ]
     },
     "execution_count": 30,
     "metadata": {},
     "output_type": "execute_result"
    }
   ],
   "source": [
    "accuracy_score(y_test_encode,y_pred)"
   ]
  },
  {
   "cell_type": "code",
   "execution_count": 31,
   "id": "64eafa63-3c18-483d-8a59-b80a915428c4",
   "metadata": {},
   "outputs": [
    {
     "data": {
      "text/plain": [
       "0.7855000000000001"
      ]
     },
     "execution_count": 31,
     "metadata": {},
     "output_type": "execute_result"
    }
   ],
   "source": [
    "cross_val_score(xgb_model , X_test, y_test_encode, cv = 10).mean()"
   ]
  },
  {
   "cell_type": "code",
   "execution_count": 32,
   "id": "dc54c5b7-3d3c-46cd-bed4-52144182c875",
   "metadata": {},
   "outputs": [
    {
     "name": "stdout",
     "output_type": "stream",
     "text": [
      "              precision    recall  f1-score   support\n",
      "\n",
      "           0       0.80      0.96      0.87      1613\n",
      "           1       0.15      0.03      0.06       387\n",
      "\n",
      "    accuracy                           0.78      2000\n",
      "   macro avg       0.48      0.49      0.46      2000\n",
      "weighted avg       0.68      0.78      0.72      2000\n",
      "\n"
     ]
    }
   ],
   "source": [
    "print(classification_report(y_test_encode,y_pred))"
   ]
  },
  {
   "cell_type": "markdown",
   "id": "5b7a76d4-29e5-42a2-b8bd-7772d66c2222",
   "metadata": {},
   "source": [
    "#### ROC Curve and Confusion Matrix X"
   ]
  },
  {
   "cell_type": "code",
   "execution_count": 33,
   "id": "3833d14a-1486-4508-bcae-3e9512dd618b",
   "metadata": {},
   "outputs": [
    {
     "data": {
      "text/plain": [
       "array([[1541,   72],\n",
       "       [ 374,   13]])"
      ]
     },
     "execution_count": 33,
     "metadata": {},
     "output_type": "execute_result"
    }
   ],
   "source": [
    "confusion_matrix(y_test_encode,y_pred)"
   ]
  },
  {
   "cell_type": "code",
   "execution_count": 34,
   "id": "3a5973f8-c483-44ee-a292-0fec417ac198",
   "metadata": {},
   "outputs": [
    {
     "data": {
      "image/png": "[encoded data removed]",
      "text/plain": [
       "<Figure size 640x480 with 1 Axes>"
      ]
     },
     "metadata": {},
     "output_type": "display_data"
    }
   ],
   "source": [
    "Xgb_roc_auc = roc_auc_score(y_test_encode, y_pred_encode)\n",
    "\n",
    "fpr, tpr, thresholds = roc_curve(y_test_encode, xgb_model.predict_proba(X_test)[:,1])\n",
    "\n",
    "plt.figure()\n",
    "plt.plot(fpr, tpr, label = \"AUC (area = %0.2f)\" % Xgb_roc_auc)\n",
    "plt.plot([0,1], [0,1], \"r--\")\n",
    "plt.xlim([0.0,1.0])\n",
    "plt.ylim([0.0,1.05])\n",
    "plt.xlabel(\"False Positive Rate\")\n",
    "plt.ylabel(\"True Positive Rate\")\n",
    "plt.title(\"ROC Curve\")\n",
    "plt.legend(loc=\"lower right\")\n",
    "plt.show()"
   ]
  },
  {
   "cell_type": "markdown",
   "id": "6942db70-0486-428f-bb11-b3779827c67a",
   "metadata": {},
   "source": [
    "#### Comments and Conclusion X"
   ]
  },
  {
   "cell_type": "markdown",
   "id": "ae765493-2c69-4156-a761-928668ac62cc",
   "metadata": {},
   "source": [
    "* Despite being one of the most powerful ensemble methods, XGBoost did not perform as expected in our dataset. Although it showed decent accuracy (77.95%) and cross-validation score (78.45%), the ROC AUC score (0.50) clearly indicated that the model fails to differentiate between classes better than random chance.\n",
    "\n",
    "* Even after using class balancing techniques such as scale_pos_weight and SMOTE oversampling, the improvement in recall and ROC-AUC was marginal at best. The results suggest that the underlying structure of the data does not favor non-linear boosting-based classifiers or may lack strong informative features for classification.\n",
    "\n",
    "* Thus, although XGBoost is theoretically a strong model, in this context, it struggled due to class imbalance and possibly insufficient feature signal strength"
   ]
  },
  {
   "cell_type": "code",
   "execution_count": 37,
   "id": "af51dff0-ce1a-4bff-b6c1-b6837372b034",
   "metadata": {},
   "outputs": [
    {
     "data": {
      "text/plain": [
       "['../models/label_encoder.pkl']"
      ]
     },
     "execution_count": 37,
     "metadata": {},
     "output_type": "execute_result"
    }
   ],
   "source": [
    "joblib.dump(Naive_model, '../models/naive_bayes_model.pkl')\n",
    "joblib.dump(Svc_model, '../models/svc_model.pkl')\n",
    "joblib.dump(xgb_model, '../models/xgboost_model.pkl')\n",
    "joblib.dump(le, '../models/label_encoder.pkl')"
   ]
  },
  {
   "cell_type": "code",
   "execution_count": null,
   "id": "4337dd50-887b-46c5-8312-7518fa55796e",
   "metadata": {},
   "outputs": [],
   "source": []
  }
 ],
 "metadata": {
  "kernelspec": {
   "display_name": "Python 3 (ipykernel)",
   "language": "python",
   "name": "python3"
  },
  "language_info": {
   "codemirror_mode": {
    "name": "ipython",
    "version": 3
   },
   "file_extension": ".py",
   "mimetype": "text/x-python",
   "name": "python",
   "nbconvert_exporter": "python",
   "pygments_lexer": "ipython3",
   "version": "3.10.12"
  }
 },
 "nbformat": 4,
 "nbformat_minor": 5
}
